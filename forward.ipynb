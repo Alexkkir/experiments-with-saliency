{
 "cells": [
  {
   "cell_type": "code",
   "execution_count": 1,
   "metadata": {},
   "outputs": [],
   "source": [
    "%load_ext autoreload\n",
    "%autoreload 2"
   ]
  },
  {
   "cell_type": "code",
   "execution_count": 2,
   "metadata": {},
   "outputs": [
    {
     "name": "stderr",
     "output_type": "stream",
     "text": [
      "/home/26a_kir@lab.graphicon.ru/miniconda3/lib/python3.9/site-packages/torchvision/io/image.py:13: UserWarning: Failed to load image Python extension: libtorch_cuda_cu.so: cannot open shared object file: No such file or directory\n",
      "  warn(f\"Failed to load image Python extension: {e}\")\n"
     ]
    }
   ],
   "source": [
    "import lib\n",
    "import torch, numpy as np, pandas as pd, pytorch_lightning as pl, matplotlib.pyplot as plt"
   ]
  },
  {
   "cell_type": "code",
   "execution_count": 3,
   "metadata": {},
   "outputs": [],
   "source": [
    "opts = lib.get_default_opts()\n",
    "opts['visualize_saliency'] = False"
   ]
  },
  {
   "cell_type": "code",
   "execution_count": 4,
   "metadata": {},
   "outputs": [],
   "source": [
    "loaders = lib.get_loaders(opts)"
   ]
  },
  {
   "cell_type": "code",
   "execution_count": 5,
   "metadata": {},
   "outputs": [],
   "source": [
    "device = torch.device('cuda:0')"
   ]
  },
  {
   "cell_type": "code",
   "execution_count": 6,
   "metadata": {},
   "outputs": [],
   "source": [
    "batch = next(iter(loaders['valid']))"
   ]
  },
  {
   "cell_type": "code",
   "execution_count": 7,
   "metadata": {},
   "outputs": [
    {
     "data": {
      "text/plain": [
       "(torch.Size([16, 3, 384, 512]), torch.Size([16, 1, 384, 512]))"
      ]
     },
     "execution_count": 7,
     "metadata": {},
     "output_type": "execute_result"
    }
   ],
   "source": [
    "batch['image'].shape, batch['saliency'].shape"
   ]
  },
  {
   "cell_type": "code",
   "execution_count": 8,
   "metadata": {},
   "outputs": [
    {
     "data": {
      "text/plain": [
       "tensor([[ 0.2307],\n",
       "        [ 1.0107],\n",
       "        [ 0.1525],\n",
       "        [ 0.0177],\n",
       "        [-0.2684],\n",
       "        [ 0.6224],\n",
       "        [-0.0082],\n",
       "        [ 0.2700],\n",
       "        [-0.0952],\n",
       "        [ 0.5610],\n",
       "        [ 0.5380],\n",
       "        [ 0.2063],\n",
       "        [ 0.0967],\n",
       "        [ 0.2446],\n",
       "        [ 0.3682],\n",
       "        [-0.4344]], device='cuda:0', grad_fn=<AddmmBackward0>)"
      ]
     },
     "execution_count": 8,
     "metadata": {},
     "output_type": "execute_result"
    }
   ],
   "source": [
    "model = lib.Model(opts)\n",
    "model.to(device)\n",
    "\n",
    "model(batch['image'].to(device), batch['saliency'].to(device))"
   ]
  }
 ],
 "metadata": {
  "kernelspec": {
   "display_name": "base",
   "language": "python",
   "name": "python3"
  },
  "language_info": {
   "codemirror_mode": {
    "name": "ipython",
    "version": 3
   },
   "file_extension": ".py",
   "mimetype": "text/x-python",
   "name": "python",
   "nbconvert_exporter": "python",
   "pygments_lexer": "ipython3",
   "version": "3.9.15"
  },
  "orig_nbformat": 4,
  "vscode": {
   "interpreter": {
    "hash": "3ebcd164ebfb8d4521c4f12c1c180c6b6c2cd5fede7a2a607a4a192009b86b70"
   }
  }
 },
 "nbformat": 4,
 "nbformat_minor": 2
}
