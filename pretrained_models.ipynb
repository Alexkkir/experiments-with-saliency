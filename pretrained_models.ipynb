{
 "cells": [
  {
   "cell_type": "code",
   "execution_count": 110,
   "metadata": {},
   "outputs": [],
   "source": [
    "import pandas as pd\n",
    "import plotly.express as px\n",
    "import matplotlib.pyplot as plt\n",
    "import numpy as np\n",
    "import re"
   ]
  },
  {
   "cell_type": "code",
   "execution_count": 40,
   "metadata": {},
   "outputs": [
    {
     "data": {
      "text/plain": [
       "Weight     string\n",
       "Acc@1     float64\n",
       "Acc@5     float64\n",
       "Params    float64\n",
       "GFLOPS    float64\n",
       "dtype: object"
      ]
     },
     "execution_count": 40,
     "metadata": {},
     "output_type": "execute_result"
    }
   ],
   "source": [
    "with open('models.csv') as f:\n",
    "    content = f.readlines()\n",
    "content = list(filter(lambda x: x != '\\n', content))\n",
    "content = list(map(lambda x: x.replace('\\n', ''), content))\n",
    "content = np.array(content).reshape(-1, 6)\n",
    "df = pd.DataFrame(data=content[1:], columns=content[0]).drop(columns='Recipe')\n",
    "df.Params = df.Params.str.replace('M', '')\n",
    "df = df.convert_dtypes()\n",
    "float_types = df.columns[1:]\n",
    "for columns in float_types:\n",
    "    df[columns] = df[columns].astype('float')\n",
    "df.dtypes"
   ]
  },
  {
   "cell_type": "code",
   "execution_count": 131,
   "metadata": {},
   "outputs": [
    {
     "data": {
      "text/html": [
       "<div>\n",
       "<style scoped>\n",
       "    .dataframe tbody tr th:only-of-type {\n",
       "        vertical-align: middle;\n",
       "    }\n",
       "\n",
       "    .dataframe tbody tr th {\n",
       "        vertical-align: top;\n",
       "    }\n",
       "\n",
       "    .dataframe thead th {\n",
       "        text-align: right;\n",
       "    }\n",
       "</style>\n",
       "<table border=\"1\" class=\"dataframe\">\n",
       "  <thead>\n",
       "    <tr style=\"text-align: right;\">\n",
       "      <th></th>\n",
       "      <th>Weight</th>\n",
       "      <th>Acc@1</th>\n",
       "      <th>Acc@5</th>\n",
       "      <th>Params</th>\n",
       "      <th>GFLOPS</th>\n",
       "      <th>family</th>\n",
       "      <th>name</th>\n",
       "    </tr>\n",
       "  </thead>\n",
       "  <tbody>\n",
       "    <tr>\n",
       "      <th>0</th>\n",
       "      <td>AlexNet_Weights.IMAGENET1K_V1</td>\n",
       "      <td>56.522</td>\n",
       "      <td>79.066</td>\n",
       "      <td>61.1</td>\n",
       "      <td>0.71</td>\n",
       "      <td>AlexNet</td>\n",
       "      <td>AlexNet</td>\n",
       "    </tr>\n",
       "    <tr>\n",
       "      <th>1</th>\n",
       "      <td>ConvNeXt_Base_Weights.IMAGENET1K_V1</td>\n",
       "      <td>84.062</td>\n",
       "      <td>96.870</td>\n",
       "      <td>88.6</td>\n",
       "      <td>15.36</td>\n",
       "      <td>ConvNeXt</td>\n",
       "      <td>ConvNeXt_Base</td>\n",
       "    </tr>\n",
       "    <tr>\n",
       "      <th>2</th>\n",
       "      <td>ConvNeXt_Large_Weights.IMAGENET1K_V1</td>\n",
       "      <td>84.414</td>\n",
       "      <td>96.976</td>\n",
       "      <td>197.8</td>\n",
       "      <td>34.36</td>\n",
       "      <td>ConvNeXt</td>\n",
       "      <td>ConvNeXt_Large</td>\n",
       "    </tr>\n",
       "    <tr>\n",
       "      <th>3</th>\n",
       "      <td>ConvNeXt_Small_Weights.IMAGENET1K_V1</td>\n",
       "      <td>83.616</td>\n",
       "      <td>96.650</td>\n",
       "      <td>50.2</td>\n",
       "      <td>8.68</td>\n",
       "      <td>ConvNeXt</td>\n",
       "      <td>ConvNeXt_Small</td>\n",
       "    </tr>\n",
       "    <tr>\n",
       "      <th>4</th>\n",
       "      <td>ConvNeXt_Tiny_Weights.IMAGENET1K_V1</td>\n",
       "      <td>82.520</td>\n",
       "      <td>96.146</td>\n",
       "      <td>28.6</td>\n",
       "      <td>4.46</td>\n",
       "      <td>ConvNeXt</td>\n",
       "      <td>ConvNeXt_Tiny</td>\n",
       "    </tr>\n",
       "    <tr>\n",
       "      <th>...</th>\n",
       "      <td>...</td>\n",
       "      <td>...</td>\n",
       "      <td>...</td>\n",
       "      <td>...</td>\n",
       "      <td>...</td>\n",
       "      <td>...</td>\n",
       "      <td>...</td>\n",
       "    </tr>\n",
       "    <tr>\n",
       "      <th>110</th>\n",
       "      <td>ViT_L_32_Weights.IMAGENET1K_V1</td>\n",
       "      <td>76.972</td>\n",
       "      <td>93.070</td>\n",
       "      <td>306.5</td>\n",
       "      <td>15.38</td>\n",
       "      <td>ViT</td>\n",
       "      <td>ViT_L_32</td>\n",
       "    </tr>\n",
       "    <tr>\n",
       "      <th>111</th>\n",
       "      <td>Wide_ResNet101_2_Weights.IMAGENET1K_V1</td>\n",
       "      <td>78.848</td>\n",
       "      <td>94.284</td>\n",
       "      <td>126.9</td>\n",
       "      <td>22.75</td>\n",
       "      <td>Wide</td>\n",
       "      <td>Wide_ResNet101_2</td>\n",
       "    </tr>\n",
       "    <tr>\n",
       "      <th>112</th>\n",
       "      <td>Wide_ResNet101_2_Weights.IMAGENET1K_V2</td>\n",
       "      <td>82.510</td>\n",
       "      <td>96.020</td>\n",
       "      <td>126.9</td>\n",
       "      <td>22.75</td>\n",
       "      <td>Wide</td>\n",
       "      <td>Wide_ResNet101_2</td>\n",
       "    </tr>\n",
       "    <tr>\n",
       "      <th>113</th>\n",
       "      <td>Wide_ResNet50_2_Weights.IMAGENET1K_V1</td>\n",
       "      <td>78.468</td>\n",
       "      <td>94.086</td>\n",
       "      <td>68.9</td>\n",
       "      <td>11.40</td>\n",
       "      <td>Wide</td>\n",
       "      <td>Wide_ResNet50_2</td>\n",
       "    </tr>\n",
       "    <tr>\n",
       "      <th>114</th>\n",
       "      <td>Wide_ResNet50_2_Weights.IMAGENET1K_V2</td>\n",
       "      <td>81.602</td>\n",
       "      <td>95.758</td>\n",
       "      <td>68.9</td>\n",
       "      <td>11.40</td>\n",
       "      <td>Wide</td>\n",
       "      <td>Wide_ResNet50_2</td>\n",
       "    </tr>\n",
       "  </tbody>\n",
       "</table>\n",
       "<p>115 rows × 7 columns</p>\n",
       "</div>"
      ],
      "text/plain": [
       "                                     Weight   Acc@1   Acc@5  Params  GFLOPS  \\\n",
       "0             AlexNet_Weights.IMAGENET1K_V1  56.522  79.066    61.1    0.71   \n",
       "1       ConvNeXt_Base_Weights.IMAGENET1K_V1  84.062  96.870    88.6   15.36   \n",
       "2      ConvNeXt_Large_Weights.IMAGENET1K_V1  84.414  96.976   197.8   34.36   \n",
       "3      ConvNeXt_Small_Weights.IMAGENET1K_V1  83.616  96.650    50.2    8.68   \n",
       "4       ConvNeXt_Tiny_Weights.IMAGENET1K_V1  82.520  96.146    28.6    4.46   \n",
       "..                                      ...     ...     ...     ...     ...   \n",
       "110          ViT_L_32_Weights.IMAGENET1K_V1  76.972  93.070   306.5   15.38   \n",
       "111  Wide_ResNet101_2_Weights.IMAGENET1K_V1  78.848  94.284   126.9   22.75   \n",
       "112  Wide_ResNet101_2_Weights.IMAGENET1K_V2  82.510  96.020   126.9   22.75   \n",
       "113   Wide_ResNet50_2_Weights.IMAGENET1K_V1  78.468  94.086    68.9   11.40   \n",
       "114   Wide_ResNet50_2_Weights.IMAGENET1K_V2  81.602  95.758    68.9   11.40   \n",
       "\n",
       "       family              name  \n",
       "0     AlexNet           AlexNet  \n",
       "1    ConvNeXt     ConvNeXt_Base  \n",
       "2    ConvNeXt    ConvNeXt_Large  \n",
       "3    ConvNeXt    ConvNeXt_Small  \n",
       "4    ConvNeXt     ConvNeXt_Tiny  \n",
       "..        ...               ...  \n",
       "110       ViT          ViT_L_32  \n",
       "111      Wide  Wide_ResNet101_2  \n",
       "112      Wide  Wide_ResNet101_2  \n",
       "113      Wide   Wide_ResNet50_2  \n",
       "114      Wide   Wide_ResNet50_2  \n",
       "\n",
       "[115 rows x 7 columns]"
      ]
     },
     "execution_count": 131,
     "metadata": {},
     "output_type": "execute_result"
    }
   ],
   "source": [
    "df['family'] = df.Weight.str.split('_').apply(lambda x: x[0]).apply(lambda x: ''.join(filter(lambda c: not c.isdigit(), x)))\n",
    "df['name'] = df.Weight.str.replace('_Weights.*$', '', regex=True)\n",
    "df"
   ]
  },
  {
   "cell_type": "code",
   "execution_count": 132,
   "metadata": {},
   "outputs": [
    {
     "data": {
      "application/vnd.plotly.v1+json": {
       "config": {
        "plotlyServerURL": "https://plot.ly"
       },
       "data": [
        {
         "hovertemplate": "<b>%{hovertext}</b><br><br>family=AlexNet<br>GFLOPS=%{x}<br>Acc@5=%{y}<extra></extra>",
         "hovertext": [
          "AlexNet"
         ],
         "legendgroup": "AlexNet",
         "marker": {
          "color": "#636efa",
          "symbol": "circle"
         },
         "mode": "markers",
         "name": "AlexNet",
         "orientation": "v",
         "showlegend": true,
         "type": "scatter",
         "x": [
          0.71
         ],
         "xaxis": "x",
         "y": [
          79.066
         ],
         "yaxis": "y"
        },
        {
         "hovertemplate": "<b>%{hovertext}</b><br><br>family=ConvNeXt<br>GFLOPS=%{x}<br>Acc@5=%{y}<extra></extra>",
         "hovertext": [
          "ConvNeXt_Base",
          "ConvNeXt_Large",
          "ConvNeXt_Small",
          "ConvNeXt_Tiny"
         ],
         "legendgroup": "ConvNeXt",
         "marker": {
          "color": "#EF553B",
          "symbol": "circle"
         },
         "mode": "markers",
         "name": "ConvNeXt",
         "orientation": "v",
         "showlegend": true,
         "type": "scatter",
         "x": [
          15.36,
          34.36,
          8.68,
          4.46
         ],
         "xaxis": "x",
         "y": [
          96.87,
          96.976,
          96.65,
          96.146
         ],
         "yaxis": "y"
        },
        {
         "hovertemplate": "<b>%{hovertext}</b><br><br>family=DenseNet<br>GFLOPS=%{x}<br>Acc@5=%{y}<extra></extra>",
         "hovertext": [
          "DenseNet121",
          "DenseNet161",
          "DenseNet169",
          "DenseNet201"
         ],
         "legendgroup": "DenseNet",
         "marker": {
          "color": "#00cc96",
          "symbol": "circle"
         },
         "mode": "markers",
         "name": "DenseNet",
         "orientation": "v",
         "showlegend": true,
         "type": "scatter",
         "x": [
          2.83,
          7.73,
          3.36,
          4.29
         ],
         "xaxis": "x",
         "y": [
          91.972,
          93.56,
          92.806,
          93.37
         ],
         "yaxis": "y"
        },
        {
         "hovertemplate": "<b>%{hovertext}</b><br><br>family=EfficientNet<br>GFLOPS=%{x}<br>Acc@5=%{y}<extra></extra>",
         "hovertext": [
          "EfficientNet_B0",
          "EfficientNet_B1",
          "EfficientNet_B1",
          "EfficientNet_B2",
          "EfficientNet_B3",
          "EfficientNet_B4",
          "EfficientNet_B5",
          "EfficientNet_B6",
          "EfficientNet_B7",
          "EfficientNet_V2_L",
          "EfficientNet_V2_M",
          "EfficientNet_V2_S"
         ],
         "legendgroup": "EfficientNet",
         "marker": {
          "color": "#ab63fa",
          "symbol": "circle"
         },
         "mode": "markers",
         "name": "EfficientNet",
         "orientation": "v",
         "showlegend": true,
         "type": "scatter",
         "x": [
          0.39,
          0.69,
          0.69,
          1.09,
          1.83,
          4.39,
          10.27,
          19.07,
          37.75,
          56.08,
          24.58,
          8.37
         ],
         "xaxis": "x",
         "y": [
          93.532,
          94.186,
          94.934,
          95.31,
          96.054,
          96.594,
          96.628,
          96.916,
          96.908,
          97.788,
          97.156,
          96.878
         ],
         "yaxis": "y"
        },
        {
         "hovertemplate": "<b>%{hovertext}</b><br><br>family=GoogLeNet<br>GFLOPS=%{x}<br>Acc@5=%{y}<extra></extra>",
         "hovertext": [
          "GoogLeNet"
         ],
         "legendgroup": "GoogLeNet",
         "marker": {
          "color": "#FFA15A",
          "symbol": "circle"
         },
         "mode": "markers",
         "name": "GoogLeNet",
         "orientation": "v",
         "showlegend": true,
         "type": "scatter",
         "x": [
          1.5
         ],
         "xaxis": "x",
         "y": [
          89.53
         ],
         "yaxis": "y"
        },
        {
         "hovertemplate": "<b>%{hovertext}</b><br><br>family=Inception<br>GFLOPS=%{x}<br>Acc@5=%{y}<extra></extra>",
         "hovertext": [
          "Inception_V3"
         ],
         "legendgroup": "Inception",
         "marker": {
          "color": "#19d3f3",
          "symbol": "circle"
         },
         "mode": "markers",
         "name": "Inception",
         "orientation": "v",
         "showlegend": true,
         "type": "scatter",
         "x": [
          5.71
         ],
         "xaxis": "x",
         "y": [
          93.45
         ],
         "yaxis": "y"
        },
        {
         "hovertemplate": "<b>%{hovertext}</b><br><br>family=MNASNet<br>GFLOPS=%{x}<br>Acc@5=%{y}<extra></extra>",
         "hovertext": [
          "MNASNet0_5",
          "MNASNet0_75",
          "MNASNet1_0",
          "MNASNet1_3"
         ],
         "legendgroup": "MNASNet",
         "marker": {
          "color": "#FF6692",
          "symbol": "circle"
         },
         "mode": "markers",
         "name": "MNASNet",
         "orientation": "v",
         "showlegend": true,
         "type": "scatter",
         "x": [
          0.1,
          0.21,
          0.31,
          0.53
         ],
         "xaxis": "x",
         "y": [
          87.49,
          90.496,
          91.51,
          93.522
         ],
         "yaxis": "y"
        },
        {
         "hovertemplate": "<b>%{hovertext}</b><br><br>family=MaxVit<br>GFLOPS=%{x}<br>Acc@5=%{y}<extra></extra>",
         "hovertext": [
          "MaxVit_T"
         ],
         "legendgroup": "MaxVit",
         "marker": {
          "color": "#B6E880",
          "symbol": "circle"
         },
         "mode": "markers",
         "name": "MaxVit",
         "orientation": "v",
         "showlegend": true,
         "type": "scatter",
         "x": [
          5.56
         ],
         "xaxis": "x",
         "y": [
          96.722
         ],
         "yaxis": "y"
        },
        {
         "hovertemplate": "<b>%{hovertext}</b><br><br>family=MobileNet<br>GFLOPS=%{x}<br>Acc@5=%{y}<extra></extra>",
         "hovertext": [
          "MobileNet_V2",
          "MobileNet_V2",
          "MobileNet_V3_Large",
          "MobileNet_V3_Large",
          "MobileNet_V3_Small"
         ],
         "legendgroup": "MobileNet",
         "marker": {
          "color": "#FF97FF",
          "symbol": "circle"
         },
         "mode": "markers",
         "name": "MobileNet",
         "orientation": "v",
         "showlegend": true,
         "type": "scatter",
         "x": [
          0.3,
          0.3,
          0.22,
          0.22,
          0.06
         ],
         "xaxis": "x",
         "y": [
          90.286,
          90.822,
          91.34,
          92.566,
          87.402
         ],
         "yaxis": "y"
        },
        {
         "hovertemplate": "<b>%{hovertext}</b><br><br>family=RegNet<br>GFLOPS=%{x}<br>Acc@5=%{y}<extra></extra>",
         "hovertext": [
          "RegNet_X_16GF",
          "RegNet_X_16GF",
          "RegNet_X_1_6GF",
          "RegNet_X_1_6GF",
          "RegNet_X_32GF",
          "RegNet_X_32GF",
          "RegNet_X_3_2GF",
          "RegNet_X_3_2GF",
          "RegNet_X_400MF",
          "RegNet_X_400MF",
          "RegNet_X_800MF",
          "RegNet_X_800MF",
          "RegNet_X_8GF",
          "RegNet_X_8GF",
          "RegNet_Y_128GF",
          "RegNet_Y_128GF",
          "RegNet_Y_16GF",
          "RegNet_Y_16GF",
          "RegNet_Y_16GF",
          "RegNet_Y_16GF",
          "RegNet_Y_1_6GF",
          "RegNet_Y_1_6GF",
          "RegNet_Y_32GF",
          "RegNet_Y_32GF",
          "RegNet_Y_32GF",
          "RegNet_Y_32GF",
          "RegNet_Y_3_2GF",
          "RegNet_Y_3_2GF",
          "RegNet_Y_400MF",
          "RegNet_Y_400MF",
          "RegNet_Y_800MF",
          "RegNet_Y_800MF",
          "RegNet_Y_8GF",
          "RegNet_Y_8GF"
         ],
         "legendgroup": "RegNet",
         "marker": {
          "color": "#FECB52",
          "symbol": "circle"
         },
         "mode": "markers",
         "name": "RegNet",
         "orientation": "v",
         "showlegend": true,
         "type": "scatter",
         "x": [
          15.94,
          15.94,
          1.6,
          1.6,
          31.74,
          31.74,
          3.18,
          3.18,
          0.41,
          0.41,
          0.8,
          0.8,
          8,
          8,
          374.57,
          127.52,
          15.91,
          15.91,
          46.73,
          15.91,
          1.61,
          1.61,
          32.28,
          32.28,
          94.83,
          32.28,
          3.18,
          3.18,
          0.4,
          0.4,
          0.83,
          0.83,
          8.47,
          8.47
         ],
         "xaxis": "x",
         "y": [
          94.944,
          96.196,
          93.44,
          94.922,
          95.248,
          96.288,
          93.992,
          95.43,
          90.95,
          92.322,
          92.348,
          93.826,
          94.686,
          95.678,
          98.682,
          97.844,
          95.24,
          96.328,
          98.054,
          97.244,
          93.966,
          95.444,
          95.34,
          96.498,
          98.362,
          97.48,
          94.576,
          95.972,
          91.716,
          92.742,
          93.136,
          94.502,
          95.048,
          96.33
         ],
         "yaxis": "y"
        },
        {
         "hovertemplate": "<b>%{hovertext}</b><br><br>family=ResNeXt<br>GFLOPS=%{x}<br>Acc@5=%{y}<extra></extra>",
         "hovertext": [
          "ResNeXt101_32X8D",
          "ResNeXt101_32X8D",
          "ResNeXt101_64X4D",
          "ResNeXt50_32X4D",
          "ResNeXt50_32X4D"
         ],
         "legendgroup": "ResNeXt",
         "marker": {
          "color": "#636efa",
          "symbol": "circle"
         },
         "mode": "markers",
         "name": "ResNeXt",
         "orientation": "v",
         "showlegend": true,
         "type": "scatter",
         "x": [
          16.41,
          16.41,
          15.46,
          4.23,
          4.23
         ],
         "xaxis": "x",
         "y": [
          94.526,
          96.228,
          96.454,
          93.698,
          95.34
         ],
         "yaxis": "y"
        },
        {
         "hovertemplate": "<b>%{hovertext}</b><br><br>family=ResNet<br>GFLOPS=%{x}<br>Acc@5=%{y}<extra></extra>",
         "hovertext": [
          "ResNet101",
          "ResNet101",
          "ResNet152",
          "ResNet152",
          "ResNet18",
          "ResNet34",
          "ResNet50",
          "ResNet50"
         ],
         "legendgroup": "ResNet",
         "marker": {
          "color": "#EF553B",
          "symbol": "circle"
         },
         "mode": "markers",
         "name": "ResNet",
         "orientation": "v",
         "showlegend": true,
         "type": "scatter",
         "x": [
          7.8,
          7.8,
          11.51,
          11.51,
          1.81,
          3.66,
          4.09,
          4.09
         ],
         "xaxis": "x",
         "y": [
          93.546,
          95.78,
          94.046,
          96.002,
          89.078,
          91.42,
          92.862,
          95.434
         ],
         "yaxis": "y"
        },
        {
         "hovertemplate": "<b>%{hovertext}</b><br><br>family=ShuffleNet<br>GFLOPS=%{x}<br>Acc@5=%{y}<extra></extra>",
         "hovertext": [
          "ShuffleNet_V2_X0_5",
          "ShuffleNet_V2_X1_0",
          "ShuffleNet_V2_X1_5",
          "ShuffleNet_V2_X2_0"
         ],
         "legendgroup": "ShuffleNet",
         "marker": {
          "color": "#00cc96",
          "symbol": "circle"
         },
         "mode": "markers",
         "name": "ShuffleNet",
         "orientation": "v",
         "showlegend": true,
         "type": "scatter",
         "x": [
          0.04,
          0.14,
          0.3,
          0.58
         ],
         "xaxis": "x",
         "y": [
          81.746,
          88.316,
          91.086,
          93.006
         ],
         "yaxis": "y"
        },
        {
         "hovertemplate": "<b>%{hovertext}</b><br><br>family=SqueezeNet<br>GFLOPS=%{x}<br>Acc@5=%{y}<extra></extra>",
         "hovertext": [
          "SqueezeNet1_0",
          "SqueezeNet1_1"
         ],
         "legendgroup": "SqueezeNet",
         "marker": {
          "color": "#ab63fa",
          "symbol": "circle"
         },
         "mode": "markers",
         "name": "SqueezeNet",
         "orientation": "v",
         "showlegend": true,
         "type": "scatter",
         "x": [
          0.82,
          0.35
         ],
         "xaxis": "x",
         "y": [
          80.42,
          80.624
         ],
         "yaxis": "y"
        },
        {
         "hovertemplate": "<b>%{hovertext}</b><br><br>family=Swin<br>GFLOPS=%{x}<br>Acc@5=%{y}<extra></extra>",
         "hovertext": [
          "Swin_B",
          "Swin_S",
          "Swin_T",
          "Swin_V2_B",
          "Swin_V2_S",
          "Swin_V2_T"
         ],
         "legendgroup": "Swin",
         "marker": {
          "color": "#FFA15A",
          "symbol": "circle"
         },
         "mode": "markers",
         "name": "Swin",
         "orientation": "v",
         "showlegend": true,
         "type": "scatter",
         "x": [
          15.43,
          8.74,
          4.49,
          20.32,
          11.55,
          5.94
         ],
         "xaxis": "x",
         "y": [
          96.64,
          96.36,
          95.776,
          96.864,
          96.816,
          96.132
         ],
         "yaxis": "y"
        },
        {
         "hovertemplate": "<b>%{hovertext}</b><br><br>family=VGG<br>GFLOPS=%{x}<br>Acc@5=%{y}<extra></extra>",
         "hovertext": [
          "VGG11_BN",
          "VGG11",
          "VGG13_BN",
          "VGG13",
          "VGG16_BN",
          "VGG16",
          "VGG16",
          "VGG19_BN",
          "VGG19"
         ],
         "legendgroup": "VGG",
         "marker": {
          "color": "#19d3f3",
          "symbol": "circle"
         },
         "mode": "markers",
         "name": "VGG",
         "orientation": "v",
         "showlegend": true,
         "type": "scatter",
         "x": [
          7.61,
          7.61,
          11.31,
          11.31,
          15.47,
          15.47,
          15.47,
          19.63,
          19.63
         ],
         "xaxis": "x",
         "y": [
          89.81,
          88.628,
          90.374,
          89.246,
          91.516,
          90.382,
          null,
          91.842,
          90.876
         ],
         "yaxis": "y"
        },
        {
         "hovertemplate": "<b>%{hovertext}</b><br><br>family=ViT<br>GFLOPS=%{x}<br>Acc@5=%{y}<extra></extra>",
         "hovertext": [
          "ViT_B_16",
          "ViT_B_16",
          "ViT_B_16",
          "ViT_B_32",
          "ViT_H_14",
          "ViT_H_14",
          "ViT_L_16",
          "ViT_L_16",
          "ViT_L_16",
          "ViT_L_32"
         ],
         "legendgroup": "ViT",
         "marker": {
          "color": "#FF6692",
          "symbol": "circle"
         },
         "mode": "markers",
         "name": "ViT",
         "orientation": "v",
         "showlegend": true,
         "type": "scatter",
         "x": [
          17.56,
          55.48,
          17.56,
          4.41,
          1016.72,
          167.29,
          61.55,
          361.99,
          61.55,
          15.38
         ],
         "xaxis": "x",
         "y": [
          95.318,
          97.65,
          96.18,
          92.466,
          98.694,
          97.73,
          94.638,
          98.512,
          97.422,
          93.07
         ],
         "yaxis": "y"
        },
        {
         "hovertemplate": "<b>%{hovertext}</b><br><br>family=Wide<br>GFLOPS=%{x}<br>Acc@5=%{y}<extra></extra>",
         "hovertext": [
          "Wide_ResNet101_2",
          "Wide_ResNet101_2",
          "Wide_ResNet50_2",
          "Wide_ResNet50_2"
         ],
         "legendgroup": "Wide",
         "marker": {
          "color": "#B6E880",
          "symbol": "circle"
         },
         "mode": "markers",
         "name": "Wide",
         "orientation": "v",
         "showlegend": true,
         "type": "scatter",
         "x": [
          22.75,
          22.75,
          11.4,
          11.4
         ],
         "xaxis": "x",
         "y": [
          94.284,
          96.02,
          94.086,
          95.758
         ],
         "yaxis": "y"
        }
       ],
       "layout": {
        "legend": {
         "title": {
          "text": "family"
         },
         "tracegroupgap": 0
        },
        "margin": {
         "t": 60
        },
        "template": {
         "data": {
          "bar": [
           {
            "error_x": {
             "color": "#2a3f5f"
            },
            "error_y": {
             "color": "#2a3f5f"
            },
            "marker": {
             "line": {
              "color": "#E5ECF6",
              "width": 0.5
             },
             "pattern": {
              "fillmode": "overlay",
              "size": 10,
              "solidity": 0.2
             }
            },
            "type": "bar"
           }
          ],
          "barpolar": [
           {
            "marker": {
             "line": {
              "color": "#E5ECF6",
              "width": 0.5
             },
             "pattern": {
              "fillmode": "overlay",
              "size": 10,
              "solidity": 0.2
             }
            },
            "type": "barpolar"
           }
          ],
          "carpet": [
           {
            "aaxis": {
             "endlinecolor": "#2a3f5f",
             "gridcolor": "white",
             "linecolor": "white",
             "minorgridcolor": "white",
             "startlinecolor": "#2a3f5f"
            },
            "baxis": {
             "endlinecolor": "#2a3f5f",
             "gridcolor": "white",
             "linecolor": "white",
             "minorgridcolor": "white",
             "startlinecolor": "#2a3f5f"
            },
            "type": "carpet"
           }
          ],
          "choropleth": [
           {
            "colorbar": {
             "outlinewidth": 0,
             "ticks": ""
            },
            "type": "choropleth"
           }
          ],
          "contour": [
           {
            "colorbar": {
             "outlinewidth": 0,
             "ticks": ""
            },
            "colorscale": [
             [
              0,
              "#0d0887"
             ],
             [
              0.1111111111111111,
              "#46039f"
             ],
             [
              0.2222222222222222,
              "#7201a8"
             ],
             [
              0.3333333333333333,
              "#9c179e"
             ],
             [
              0.4444444444444444,
              "#bd3786"
             ],
             [
              0.5555555555555556,
              "#d8576b"
             ],
             [
              0.6666666666666666,
              "#ed7953"
             ],
             [
              0.7777777777777778,
              "#fb9f3a"
             ],
             [
              0.8888888888888888,
              "#fdca26"
             ],
             [
              1,
              "#f0f921"
             ]
            ],
            "type": "contour"
           }
          ],
          "contourcarpet": [
           {
            "colorbar": {
             "outlinewidth": 0,
             "ticks": ""
            },
            "type": "contourcarpet"
           }
          ],
          "heatmap": [
           {
            "colorbar": {
             "outlinewidth": 0,
             "ticks": ""
            },
            "colorscale": [
             [
              0,
              "#0d0887"
             ],
             [
              0.1111111111111111,
              "#46039f"
             ],
             [
              0.2222222222222222,
              "#7201a8"
             ],
             [
              0.3333333333333333,
              "#9c179e"
             ],
             [
              0.4444444444444444,
              "#bd3786"
             ],
             [
              0.5555555555555556,
              "#d8576b"
             ],
             [
              0.6666666666666666,
              "#ed7953"
             ],
             [
              0.7777777777777778,
              "#fb9f3a"
             ],
             [
              0.8888888888888888,
              "#fdca26"
             ],
             [
              1,
              "#f0f921"
             ]
            ],
            "type": "heatmap"
           }
          ],
          "heatmapgl": [
           {
            "colorbar": {
             "outlinewidth": 0,
             "ticks": ""
            },
            "colorscale": [
             [
              0,
              "#0d0887"
             ],
             [
              0.1111111111111111,
              "#46039f"
             ],
             [
              0.2222222222222222,
              "#7201a8"
             ],
             [
              0.3333333333333333,
              "#9c179e"
             ],
             [
              0.4444444444444444,
              "#bd3786"
             ],
             [
              0.5555555555555556,
              "#d8576b"
             ],
             [
              0.6666666666666666,
              "#ed7953"
             ],
             [
              0.7777777777777778,
              "#fb9f3a"
             ],
             [
              0.8888888888888888,
              "#fdca26"
             ],
             [
              1,
              "#f0f921"
             ]
            ],
            "type": "heatmapgl"
           }
          ],
          "histogram": [
           {
            "marker": {
             "pattern": {
              "fillmode": "overlay",
              "size": 10,
              "solidity": 0.2
             }
            },
            "type": "histogram"
           }
          ],
          "histogram2d": [
           {
            "colorbar": {
             "outlinewidth": 0,
             "ticks": ""
            },
            "colorscale": [
             [
              0,
              "#0d0887"
             ],
             [
              0.1111111111111111,
              "#46039f"
             ],
             [
              0.2222222222222222,
              "#7201a8"
             ],
             [
              0.3333333333333333,
              "#9c179e"
             ],
             [
              0.4444444444444444,
              "#bd3786"
             ],
             [
              0.5555555555555556,
              "#d8576b"
             ],
             [
              0.6666666666666666,
              "#ed7953"
             ],
             [
              0.7777777777777778,
              "#fb9f3a"
             ],
             [
              0.8888888888888888,
              "#fdca26"
             ],
             [
              1,
              "#f0f921"
             ]
            ],
            "type": "histogram2d"
           }
          ],
          "histogram2dcontour": [
           {
            "colorbar": {
             "outlinewidth": 0,
             "ticks": ""
            },
            "colorscale": [
             [
              0,
              "#0d0887"
             ],
             [
              0.1111111111111111,
              "#46039f"
             ],
             [
              0.2222222222222222,
              "#7201a8"
             ],
             [
              0.3333333333333333,
              "#9c179e"
             ],
             [
              0.4444444444444444,
              "#bd3786"
             ],
             [
              0.5555555555555556,
              "#d8576b"
             ],
             [
              0.6666666666666666,
              "#ed7953"
             ],
             [
              0.7777777777777778,
              "#fb9f3a"
             ],
             [
              0.8888888888888888,
              "#fdca26"
             ],
             [
              1,
              "#f0f921"
             ]
            ],
            "type": "histogram2dcontour"
           }
          ],
          "mesh3d": [
           {
            "colorbar": {
             "outlinewidth": 0,
             "ticks": ""
            },
            "type": "mesh3d"
           }
          ],
          "parcoords": [
           {
            "line": {
             "colorbar": {
              "outlinewidth": 0,
              "ticks": ""
             }
            },
            "type": "parcoords"
           }
          ],
          "pie": [
           {
            "automargin": true,
            "type": "pie"
           }
          ],
          "scatter": [
           {
            "fillpattern": {
             "fillmode": "overlay",
             "size": 10,
             "solidity": 0.2
            },
            "type": "scatter"
           }
          ],
          "scatter3d": [
           {
            "line": {
             "colorbar": {
              "outlinewidth": 0,
              "ticks": ""
             }
            },
            "marker": {
             "colorbar": {
              "outlinewidth": 0,
              "ticks": ""
             }
            },
            "type": "scatter3d"
           }
          ],
          "scattercarpet": [
           {
            "marker": {
             "colorbar": {
              "outlinewidth": 0,
              "ticks": ""
             }
            },
            "type": "scattercarpet"
           }
          ],
          "scattergeo": [
           {
            "marker": {
             "colorbar": {
              "outlinewidth": 0,
              "ticks": ""
             }
            },
            "type": "scattergeo"
           }
          ],
          "scattergl": [
           {
            "marker": {
             "colorbar": {
              "outlinewidth": 0,
              "ticks": ""
             }
            },
            "type": "scattergl"
           }
          ],
          "scattermapbox": [
           {
            "marker": {
             "colorbar": {
              "outlinewidth": 0,
              "ticks": ""
             }
            },
            "type": "scattermapbox"
           }
          ],
          "scatterpolar": [
           {
            "marker": {
             "colorbar": {
              "outlinewidth": 0,
              "ticks": ""
             }
            },
            "type": "scatterpolar"
           }
          ],
          "scatterpolargl": [
           {
            "marker": {
             "colorbar": {
              "outlinewidth": 0,
              "ticks": ""
             }
            },
            "type": "scatterpolargl"
           }
          ],
          "scatterternary": [
           {
            "marker": {
             "colorbar": {
              "outlinewidth": 0,
              "ticks": ""
             }
            },
            "type": "scatterternary"
           }
          ],
          "surface": [
           {
            "colorbar": {
             "outlinewidth": 0,
             "ticks": ""
            },
            "colorscale": [
             [
              0,
              "#0d0887"
             ],
             [
              0.1111111111111111,
              "#46039f"
             ],
             [
              0.2222222222222222,
              "#7201a8"
             ],
             [
              0.3333333333333333,
              "#9c179e"
             ],
             [
              0.4444444444444444,
              "#bd3786"
             ],
             [
              0.5555555555555556,
              "#d8576b"
             ],
             [
              0.6666666666666666,
              "#ed7953"
             ],
             [
              0.7777777777777778,
              "#fb9f3a"
             ],
             [
              0.8888888888888888,
              "#fdca26"
             ],
             [
              1,
              "#f0f921"
             ]
            ],
            "type": "surface"
           }
          ],
          "table": [
           {
            "cells": {
             "fill": {
              "color": "#EBF0F8"
             },
             "line": {
              "color": "white"
             }
            },
            "header": {
             "fill": {
              "color": "#C8D4E3"
             },
             "line": {
              "color": "white"
             }
            },
            "type": "table"
           }
          ]
         },
         "layout": {
          "annotationdefaults": {
           "arrowcolor": "#2a3f5f",
           "arrowhead": 0,
           "arrowwidth": 1
          },
          "autotypenumbers": "strict",
          "coloraxis": {
           "colorbar": {
            "outlinewidth": 0,
            "ticks": ""
           }
          },
          "colorscale": {
           "diverging": [
            [
             0,
             "#8e0152"
            ],
            [
             0.1,
             "#c51b7d"
            ],
            [
             0.2,
             "#de77ae"
            ],
            [
             0.3,
             "#f1b6da"
            ],
            [
             0.4,
             "#fde0ef"
            ],
            [
             0.5,
             "#f7f7f7"
            ],
            [
             0.6,
             "#e6f5d0"
            ],
            [
             0.7,
             "#b8e186"
            ],
            [
             0.8,
             "#7fbc41"
            ],
            [
             0.9,
             "#4d9221"
            ],
            [
             1,
             "#276419"
            ]
           ],
           "sequential": [
            [
             0,
             "#0d0887"
            ],
            [
             0.1111111111111111,
             "#46039f"
            ],
            [
             0.2222222222222222,
             "#7201a8"
            ],
            [
             0.3333333333333333,
             "#9c179e"
            ],
            [
             0.4444444444444444,
             "#bd3786"
            ],
            [
             0.5555555555555556,
             "#d8576b"
            ],
            [
             0.6666666666666666,
             "#ed7953"
            ],
            [
             0.7777777777777778,
             "#fb9f3a"
            ],
            [
             0.8888888888888888,
             "#fdca26"
            ],
            [
             1,
             "#f0f921"
            ]
           ],
           "sequentialminus": [
            [
             0,
             "#0d0887"
            ],
            [
             0.1111111111111111,
             "#46039f"
            ],
            [
             0.2222222222222222,
             "#7201a8"
            ],
            [
             0.3333333333333333,
             "#9c179e"
            ],
            [
             0.4444444444444444,
             "#bd3786"
            ],
            [
             0.5555555555555556,
             "#d8576b"
            ],
            [
             0.6666666666666666,
             "#ed7953"
            ],
            [
             0.7777777777777778,
             "#fb9f3a"
            ],
            [
             0.8888888888888888,
             "#fdca26"
            ],
            [
             1,
             "#f0f921"
            ]
           ]
          },
          "colorway": [
           "#636efa",
           "#EF553B",
           "#00cc96",
           "#ab63fa",
           "#FFA15A",
           "#19d3f3",
           "#FF6692",
           "#B6E880",
           "#FF97FF",
           "#FECB52"
          ],
          "font": {
           "color": "#2a3f5f"
          },
          "geo": {
           "bgcolor": "white",
           "lakecolor": "white",
           "landcolor": "#E5ECF6",
           "showlakes": true,
           "showland": true,
           "subunitcolor": "white"
          },
          "hoverlabel": {
           "align": "left"
          },
          "hovermode": "closest",
          "mapbox": {
           "style": "light"
          },
          "paper_bgcolor": "white",
          "plot_bgcolor": "#E5ECF6",
          "polar": {
           "angularaxis": {
            "gridcolor": "white",
            "linecolor": "white",
            "ticks": ""
           },
           "bgcolor": "#E5ECF6",
           "radialaxis": {
            "gridcolor": "white",
            "linecolor": "white",
            "ticks": ""
           }
          },
          "scene": {
           "xaxis": {
            "backgroundcolor": "#E5ECF6",
            "gridcolor": "white",
            "gridwidth": 2,
            "linecolor": "white",
            "showbackground": true,
            "ticks": "",
            "zerolinecolor": "white"
           },
           "yaxis": {
            "backgroundcolor": "#E5ECF6",
            "gridcolor": "white",
            "gridwidth": 2,
            "linecolor": "white",
            "showbackground": true,
            "ticks": "",
            "zerolinecolor": "white"
           },
           "zaxis": {
            "backgroundcolor": "#E5ECF6",
            "gridcolor": "white",
            "gridwidth": 2,
            "linecolor": "white",
            "showbackground": true,
            "ticks": "",
            "zerolinecolor": "white"
           }
          },
          "shapedefaults": {
           "line": {
            "color": "#2a3f5f"
           }
          },
          "ternary": {
           "aaxis": {
            "gridcolor": "white",
            "linecolor": "white",
            "ticks": ""
           },
           "baxis": {
            "gridcolor": "white",
            "linecolor": "white",
            "ticks": ""
           },
           "bgcolor": "#E5ECF6",
           "caxis": {
            "gridcolor": "white",
            "linecolor": "white",
            "ticks": ""
           }
          },
          "title": {
           "x": 0.05
          },
          "xaxis": {
           "automargin": true,
           "gridcolor": "white",
           "linecolor": "white",
           "ticks": "",
           "title": {
            "standoff": 15
           },
           "zerolinecolor": "white",
           "zerolinewidth": 2
          },
          "yaxis": {
           "automargin": true,
           "gridcolor": "white",
           "linecolor": "white",
           "ticks": "",
           "title": {
            "standoff": 15
           },
           "zerolinecolor": "white",
           "zerolinewidth": 2
          }
         }
        },
        "xaxis": {
         "anchor": "y",
         "domain": [
          0,
          1
         ],
         "title": {
          "text": "GFLOPS"
         }
        },
        "yaxis": {
         "anchor": "x",
         "domain": [
          0,
          1
         ],
         "title": {
          "text": "Acc@5"
         }
        }
       }
      },
      "text/html": [
       "<div>                            <div id=\"e6a55fc6-a2e6-4fc6-8b9d-612cf4be057b\" class=\"plotly-graph-div\" style=\"height:525px; width:100%;\"></div>            <script type=\"text/javascript\">                require([\"plotly\"], function(Plotly) {                    window.PLOTLYENV=window.PLOTLYENV || {};                                    if (document.getElementById(\"e6a55fc6-a2e6-4fc6-8b9d-612cf4be057b\")) {                    Plotly.newPlot(                        \"e6a55fc6-a2e6-4fc6-8b9d-612cf4be057b\",                        [{\"hovertemplate\":\"<b>%{hovertext}</b><br><br>family=AlexNet<br>GFLOPS=%{x}<br>Acc@5=%{y}<extra></extra>\",\"hovertext\":[\"AlexNet\"],\"legendgroup\":\"AlexNet\",\"marker\":{\"color\":\"#636efa\",\"symbol\":\"circle\"},\"mode\":\"markers\",\"name\":\"AlexNet\",\"orientation\":\"v\",\"showlegend\":true,\"x\":[0.71],\"xaxis\":\"x\",\"y\":[79.066],\"yaxis\":\"y\",\"type\":\"scatter\"},{\"hovertemplate\":\"<b>%{hovertext}</b><br><br>family=ConvNeXt<br>GFLOPS=%{x}<br>Acc@5=%{y}<extra></extra>\",\"hovertext\":[\"ConvNeXt_Base\",\"ConvNeXt_Large\",\"ConvNeXt_Small\",\"ConvNeXt_Tiny\"],\"legendgroup\":\"ConvNeXt\",\"marker\":{\"color\":\"#EF553B\",\"symbol\":\"circle\"},\"mode\":\"markers\",\"name\":\"ConvNeXt\",\"orientation\":\"v\",\"showlegend\":true,\"x\":[15.36,34.36,8.68,4.46],\"xaxis\":\"x\",\"y\":[96.87,96.976,96.65,96.146],\"yaxis\":\"y\",\"type\":\"scatter\"},{\"hovertemplate\":\"<b>%{hovertext}</b><br><br>family=DenseNet<br>GFLOPS=%{x}<br>Acc@5=%{y}<extra></extra>\",\"hovertext\":[\"DenseNet121\",\"DenseNet161\",\"DenseNet169\",\"DenseNet201\"],\"legendgroup\":\"DenseNet\",\"marker\":{\"color\":\"#00cc96\",\"symbol\":\"circle\"},\"mode\":\"markers\",\"name\":\"DenseNet\",\"orientation\":\"v\",\"showlegend\":true,\"x\":[2.83,7.73,3.36,4.29],\"xaxis\":\"x\",\"y\":[91.972,93.56,92.806,93.37],\"yaxis\":\"y\",\"type\":\"scatter\"},{\"hovertemplate\":\"<b>%{hovertext}</b><br><br>family=EfficientNet<br>GFLOPS=%{x}<br>Acc@5=%{y}<extra></extra>\",\"hovertext\":[\"EfficientNet_B0\",\"EfficientNet_B1\",\"EfficientNet_B1\",\"EfficientNet_B2\",\"EfficientNet_B3\",\"EfficientNet_B4\",\"EfficientNet_B5\",\"EfficientNet_B6\",\"EfficientNet_B7\",\"EfficientNet_V2_L\",\"EfficientNet_V2_M\",\"EfficientNet_V2_S\"],\"legendgroup\":\"EfficientNet\",\"marker\":{\"color\":\"#ab63fa\",\"symbol\":\"circle\"},\"mode\":\"markers\",\"name\":\"EfficientNet\",\"orientation\":\"v\",\"showlegend\":true,\"x\":[0.39,0.69,0.69,1.09,1.83,4.39,10.27,19.07,37.75,56.08,24.58,8.37],\"xaxis\":\"x\",\"y\":[93.532,94.186,94.934,95.31,96.054,96.594,96.628,96.916,96.908,97.788,97.156,96.878],\"yaxis\":\"y\",\"type\":\"scatter\"},{\"hovertemplate\":\"<b>%{hovertext}</b><br><br>family=GoogLeNet<br>GFLOPS=%{x}<br>Acc@5=%{y}<extra></extra>\",\"hovertext\":[\"GoogLeNet\"],\"legendgroup\":\"GoogLeNet\",\"marker\":{\"color\":\"#FFA15A\",\"symbol\":\"circle\"},\"mode\":\"markers\",\"name\":\"GoogLeNet\",\"orientation\":\"v\",\"showlegend\":true,\"x\":[1.5],\"xaxis\":\"x\",\"y\":[89.53],\"yaxis\":\"y\",\"type\":\"scatter\"},{\"hovertemplate\":\"<b>%{hovertext}</b><br><br>family=Inception<br>GFLOPS=%{x}<br>Acc@5=%{y}<extra></extra>\",\"hovertext\":[\"Inception_V3\"],\"legendgroup\":\"Inception\",\"marker\":{\"color\":\"#19d3f3\",\"symbol\":\"circle\"},\"mode\":\"markers\",\"name\":\"Inception\",\"orientation\":\"v\",\"showlegend\":true,\"x\":[5.71],\"xaxis\":\"x\",\"y\":[93.45],\"yaxis\":\"y\",\"type\":\"scatter\"},{\"hovertemplate\":\"<b>%{hovertext}</b><br><br>family=MNASNet<br>GFLOPS=%{x}<br>Acc@5=%{y}<extra></extra>\",\"hovertext\":[\"MNASNet0_5\",\"MNASNet0_75\",\"MNASNet1_0\",\"MNASNet1_3\"],\"legendgroup\":\"MNASNet\",\"marker\":{\"color\":\"#FF6692\",\"symbol\":\"circle\"},\"mode\":\"markers\",\"name\":\"MNASNet\",\"orientation\":\"v\",\"showlegend\":true,\"x\":[0.1,0.21,0.31,0.53],\"xaxis\":\"x\",\"y\":[87.49,90.496,91.51,93.522],\"yaxis\":\"y\",\"type\":\"scatter\"},{\"hovertemplate\":\"<b>%{hovertext}</b><br><br>family=MaxVit<br>GFLOPS=%{x}<br>Acc@5=%{y}<extra></extra>\",\"hovertext\":[\"MaxVit_T\"],\"legendgroup\":\"MaxVit\",\"marker\":{\"color\":\"#B6E880\",\"symbol\":\"circle\"},\"mode\":\"markers\",\"name\":\"MaxVit\",\"orientation\":\"v\",\"showlegend\":true,\"x\":[5.56],\"xaxis\":\"x\",\"y\":[96.722],\"yaxis\":\"y\",\"type\":\"scatter\"},{\"hovertemplate\":\"<b>%{hovertext}</b><br><br>family=MobileNet<br>GFLOPS=%{x}<br>Acc@5=%{y}<extra></extra>\",\"hovertext\":[\"MobileNet_V2\",\"MobileNet_V2\",\"MobileNet_V3_Large\",\"MobileNet_V3_Large\",\"MobileNet_V3_Small\"],\"legendgroup\":\"MobileNet\",\"marker\":{\"color\":\"#FF97FF\",\"symbol\":\"circle\"},\"mode\":\"markers\",\"name\":\"MobileNet\",\"orientation\":\"v\",\"showlegend\":true,\"x\":[0.3,0.3,0.22,0.22,0.06],\"xaxis\":\"x\",\"y\":[90.286,90.822,91.34,92.566,87.402],\"yaxis\":\"y\",\"type\":\"scatter\"},{\"hovertemplate\":\"<b>%{hovertext}</b><br><br>family=RegNet<br>GFLOPS=%{x}<br>Acc@5=%{y}<extra></extra>\",\"hovertext\":[\"RegNet_X_16GF\",\"RegNet_X_16GF\",\"RegNet_X_1_6GF\",\"RegNet_X_1_6GF\",\"RegNet_X_32GF\",\"RegNet_X_32GF\",\"RegNet_X_3_2GF\",\"RegNet_X_3_2GF\",\"RegNet_X_400MF\",\"RegNet_X_400MF\",\"RegNet_X_800MF\",\"RegNet_X_800MF\",\"RegNet_X_8GF\",\"RegNet_X_8GF\",\"RegNet_Y_128GF\",\"RegNet_Y_128GF\",\"RegNet_Y_16GF\",\"RegNet_Y_16GF\",\"RegNet_Y_16GF\",\"RegNet_Y_16GF\",\"RegNet_Y_1_6GF\",\"RegNet_Y_1_6GF\",\"RegNet_Y_32GF\",\"RegNet_Y_32GF\",\"RegNet_Y_32GF\",\"RegNet_Y_32GF\",\"RegNet_Y_3_2GF\",\"RegNet_Y_3_2GF\",\"RegNet_Y_400MF\",\"RegNet_Y_400MF\",\"RegNet_Y_800MF\",\"RegNet_Y_800MF\",\"RegNet_Y_8GF\",\"RegNet_Y_8GF\"],\"legendgroup\":\"RegNet\",\"marker\":{\"color\":\"#FECB52\",\"symbol\":\"circle\"},\"mode\":\"markers\",\"name\":\"RegNet\",\"orientation\":\"v\",\"showlegend\":true,\"x\":[15.94,15.94,1.6,1.6,31.74,31.74,3.18,3.18,0.41,0.41,0.8,0.8,8.0,8.0,374.57,127.52,15.91,15.91,46.73,15.91,1.61,1.61,32.28,32.28,94.83,32.28,3.18,3.18,0.4,0.4,0.83,0.83,8.47,8.47],\"xaxis\":\"x\",\"y\":[94.944,96.196,93.44,94.922,95.248,96.288,93.992,95.43,90.95,92.322,92.348,93.826,94.686,95.678,98.682,97.844,95.24,96.328,98.054,97.244,93.966,95.444,95.34,96.498,98.362,97.48,94.576,95.972,91.716,92.742,93.136,94.502,95.048,96.33],\"yaxis\":\"y\",\"type\":\"scatter\"},{\"hovertemplate\":\"<b>%{hovertext}</b><br><br>family=ResNeXt<br>GFLOPS=%{x}<br>Acc@5=%{y}<extra></extra>\",\"hovertext\":[\"ResNeXt101_32X8D\",\"ResNeXt101_32X8D\",\"ResNeXt101_64X4D\",\"ResNeXt50_32X4D\",\"ResNeXt50_32X4D\"],\"legendgroup\":\"ResNeXt\",\"marker\":{\"color\":\"#636efa\",\"symbol\":\"circle\"},\"mode\":\"markers\",\"name\":\"ResNeXt\",\"orientation\":\"v\",\"showlegend\":true,\"x\":[16.41,16.41,15.46,4.23,4.23],\"xaxis\":\"x\",\"y\":[94.526,96.228,96.454,93.698,95.34],\"yaxis\":\"y\",\"type\":\"scatter\"},{\"hovertemplate\":\"<b>%{hovertext}</b><br><br>family=ResNet<br>GFLOPS=%{x}<br>Acc@5=%{y}<extra></extra>\",\"hovertext\":[\"ResNet101\",\"ResNet101\",\"ResNet152\",\"ResNet152\",\"ResNet18\",\"ResNet34\",\"ResNet50\",\"ResNet50\"],\"legendgroup\":\"ResNet\",\"marker\":{\"color\":\"#EF553B\",\"symbol\":\"circle\"},\"mode\":\"markers\",\"name\":\"ResNet\",\"orientation\":\"v\",\"showlegend\":true,\"x\":[7.8,7.8,11.51,11.51,1.81,3.66,4.09,4.09],\"xaxis\":\"x\",\"y\":[93.546,95.78,94.046,96.002,89.078,91.42,92.862,95.434],\"yaxis\":\"y\",\"type\":\"scatter\"},{\"hovertemplate\":\"<b>%{hovertext}</b><br><br>family=ShuffleNet<br>GFLOPS=%{x}<br>Acc@5=%{y}<extra></extra>\",\"hovertext\":[\"ShuffleNet_V2_X0_5\",\"ShuffleNet_V2_X1_0\",\"ShuffleNet_V2_X1_5\",\"ShuffleNet_V2_X2_0\"],\"legendgroup\":\"ShuffleNet\",\"marker\":{\"color\":\"#00cc96\",\"symbol\":\"circle\"},\"mode\":\"markers\",\"name\":\"ShuffleNet\",\"orientation\":\"v\",\"showlegend\":true,\"x\":[0.04,0.14,0.3,0.58],\"xaxis\":\"x\",\"y\":[81.746,88.316,91.086,93.006],\"yaxis\":\"y\",\"type\":\"scatter\"},{\"hovertemplate\":\"<b>%{hovertext}</b><br><br>family=SqueezeNet<br>GFLOPS=%{x}<br>Acc@5=%{y}<extra></extra>\",\"hovertext\":[\"SqueezeNet1_0\",\"SqueezeNet1_1\"],\"legendgroup\":\"SqueezeNet\",\"marker\":{\"color\":\"#ab63fa\",\"symbol\":\"circle\"},\"mode\":\"markers\",\"name\":\"SqueezeNet\",\"orientation\":\"v\",\"showlegend\":true,\"x\":[0.82,0.35],\"xaxis\":\"x\",\"y\":[80.42,80.624],\"yaxis\":\"y\",\"type\":\"scatter\"},{\"hovertemplate\":\"<b>%{hovertext}</b><br><br>family=Swin<br>GFLOPS=%{x}<br>Acc@5=%{y}<extra></extra>\",\"hovertext\":[\"Swin_B\",\"Swin_S\",\"Swin_T\",\"Swin_V2_B\",\"Swin_V2_S\",\"Swin_V2_T\"],\"legendgroup\":\"Swin\",\"marker\":{\"color\":\"#FFA15A\",\"symbol\":\"circle\"},\"mode\":\"markers\",\"name\":\"Swin\",\"orientation\":\"v\",\"showlegend\":true,\"x\":[15.43,8.74,4.49,20.32,11.55,5.94],\"xaxis\":\"x\",\"y\":[96.64,96.36,95.776,96.864,96.816,96.132],\"yaxis\":\"y\",\"type\":\"scatter\"},{\"hovertemplate\":\"<b>%{hovertext}</b><br><br>family=VGG<br>GFLOPS=%{x}<br>Acc@5=%{y}<extra></extra>\",\"hovertext\":[\"VGG11_BN\",\"VGG11\",\"VGG13_BN\",\"VGG13\",\"VGG16_BN\",\"VGG16\",\"VGG16\",\"VGG19_BN\",\"VGG19\"],\"legendgroup\":\"VGG\",\"marker\":{\"color\":\"#19d3f3\",\"symbol\":\"circle\"},\"mode\":\"markers\",\"name\":\"VGG\",\"orientation\":\"v\",\"showlegend\":true,\"x\":[7.61,7.61,11.31,11.31,15.47,15.47,15.47,19.63,19.63],\"xaxis\":\"x\",\"y\":[89.81,88.628,90.374,89.246,91.516,90.382,null,91.842,90.876],\"yaxis\":\"y\",\"type\":\"scatter\"},{\"hovertemplate\":\"<b>%{hovertext}</b><br><br>family=ViT<br>GFLOPS=%{x}<br>Acc@5=%{y}<extra></extra>\",\"hovertext\":[\"ViT_B_16\",\"ViT_B_16\",\"ViT_B_16\",\"ViT_B_32\",\"ViT_H_14\",\"ViT_H_14\",\"ViT_L_16\",\"ViT_L_16\",\"ViT_L_16\",\"ViT_L_32\"],\"legendgroup\":\"ViT\",\"marker\":{\"color\":\"#FF6692\",\"symbol\":\"circle\"},\"mode\":\"markers\",\"name\":\"ViT\",\"orientation\":\"v\",\"showlegend\":true,\"x\":[17.56,55.48,17.56,4.41,1016.72,167.29,61.55,361.99,61.55,15.38],\"xaxis\":\"x\",\"y\":[95.318,97.65,96.18,92.466,98.694,97.73,94.638,98.512,97.422,93.07],\"yaxis\":\"y\",\"type\":\"scatter\"},{\"hovertemplate\":\"<b>%{hovertext}</b><br><br>family=Wide<br>GFLOPS=%{x}<br>Acc@5=%{y}<extra></extra>\",\"hovertext\":[\"Wide_ResNet101_2\",\"Wide_ResNet101_2\",\"Wide_ResNet50_2\",\"Wide_ResNet50_2\"],\"legendgroup\":\"Wide\",\"marker\":{\"color\":\"#B6E880\",\"symbol\":\"circle\"},\"mode\":\"markers\",\"name\":\"Wide\",\"orientation\":\"v\",\"showlegend\":true,\"x\":[22.75,22.75,11.4,11.4],\"xaxis\":\"x\",\"y\":[94.284,96.02,94.086,95.758],\"yaxis\":\"y\",\"type\":\"scatter\"}],                        {\"template\":{\"data\":{\"histogram2dcontour\":[{\"type\":\"histogram2dcontour\",\"colorbar\":{\"outlinewidth\":0,\"ticks\":\"\"},\"colorscale\":[[0.0,\"#0d0887\"],[0.1111111111111111,\"#46039f\"],[0.2222222222222222,\"#7201a8\"],[0.3333333333333333,\"#9c179e\"],[0.4444444444444444,\"#bd3786\"],[0.5555555555555556,\"#d8576b\"],[0.6666666666666666,\"#ed7953\"],[0.7777777777777778,\"#fb9f3a\"],[0.8888888888888888,\"#fdca26\"],[1.0,\"#f0f921\"]]}],\"choropleth\":[{\"type\":\"choropleth\",\"colorbar\":{\"outlinewidth\":0,\"ticks\":\"\"}}],\"histogram2d\":[{\"type\":\"histogram2d\",\"colorbar\":{\"outlinewidth\":0,\"ticks\":\"\"},\"colorscale\":[[0.0,\"#0d0887\"],[0.1111111111111111,\"#46039f\"],[0.2222222222222222,\"#7201a8\"],[0.3333333333333333,\"#9c179e\"],[0.4444444444444444,\"#bd3786\"],[0.5555555555555556,\"#d8576b\"],[0.6666666666666666,\"#ed7953\"],[0.7777777777777778,\"#fb9f3a\"],[0.8888888888888888,\"#fdca26\"],[1.0,\"#f0f921\"]]}],\"heatmap\":[{\"type\":\"heatmap\",\"colorbar\":{\"outlinewidth\":0,\"ticks\":\"\"},\"colorscale\":[[0.0,\"#0d0887\"],[0.1111111111111111,\"#46039f\"],[0.2222222222222222,\"#7201a8\"],[0.3333333333333333,\"#9c179e\"],[0.4444444444444444,\"#bd3786\"],[0.5555555555555556,\"#d8576b\"],[0.6666666666666666,\"#ed7953\"],[0.7777777777777778,\"#fb9f3a\"],[0.8888888888888888,\"#fdca26\"],[1.0,\"#f0f921\"]]}],\"heatmapgl\":[{\"type\":\"heatmapgl\",\"colorbar\":{\"outlinewidth\":0,\"ticks\":\"\"},\"colorscale\":[[0.0,\"#0d0887\"],[0.1111111111111111,\"#46039f\"],[0.2222222222222222,\"#7201a8\"],[0.3333333333333333,\"#9c179e\"],[0.4444444444444444,\"#bd3786\"],[0.5555555555555556,\"#d8576b\"],[0.6666666666666666,\"#ed7953\"],[0.7777777777777778,\"#fb9f3a\"],[0.8888888888888888,\"#fdca26\"],[1.0,\"#f0f921\"]]}],\"contourcarpet\":[{\"type\":\"contourcarpet\",\"colorbar\":{\"outlinewidth\":0,\"ticks\":\"\"}}],\"contour\":[{\"type\":\"contour\",\"colorbar\":{\"outlinewidth\":0,\"ticks\":\"\"},\"colorscale\":[[0.0,\"#0d0887\"],[0.1111111111111111,\"#46039f\"],[0.2222222222222222,\"#7201a8\"],[0.3333333333333333,\"#9c179e\"],[0.4444444444444444,\"#bd3786\"],[0.5555555555555556,\"#d8576b\"],[0.6666666666666666,\"#ed7953\"],[0.7777777777777778,\"#fb9f3a\"],[0.8888888888888888,\"#fdca26\"],[1.0,\"#f0f921\"]]}],\"surface\":[{\"type\":\"surface\",\"colorbar\":{\"outlinewidth\":0,\"ticks\":\"\"},\"colorscale\":[[0.0,\"#0d0887\"],[0.1111111111111111,\"#46039f\"],[0.2222222222222222,\"#7201a8\"],[0.3333333333333333,\"#9c179e\"],[0.4444444444444444,\"#bd3786\"],[0.5555555555555556,\"#d8576b\"],[0.6666666666666666,\"#ed7953\"],[0.7777777777777778,\"#fb9f3a\"],[0.8888888888888888,\"#fdca26\"],[1.0,\"#f0f921\"]]}],\"mesh3d\":[{\"type\":\"mesh3d\",\"colorbar\":{\"outlinewidth\":0,\"ticks\":\"\"}}],\"scatter\":[{\"fillpattern\":{\"fillmode\":\"overlay\",\"size\":10,\"solidity\":0.2},\"type\":\"scatter\"}],\"parcoords\":[{\"type\":\"parcoords\",\"line\":{\"colorbar\":{\"outlinewidth\":0,\"ticks\":\"\"}}}],\"scatterpolargl\":[{\"type\":\"scatterpolargl\",\"marker\":{\"colorbar\":{\"outlinewidth\":0,\"ticks\":\"\"}}}],\"bar\":[{\"error_x\":{\"color\":\"#2a3f5f\"},\"error_y\":{\"color\":\"#2a3f5f\"},\"marker\":{\"line\":{\"color\":\"#E5ECF6\",\"width\":0.5},\"pattern\":{\"fillmode\":\"overlay\",\"size\":10,\"solidity\":0.2}},\"type\":\"bar\"}],\"scattergeo\":[{\"type\":\"scattergeo\",\"marker\":{\"colorbar\":{\"outlinewidth\":0,\"ticks\":\"\"}}}],\"scatterpolar\":[{\"type\":\"scatterpolar\",\"marker\":{\"colorbar\":{\"outlinewidth\":0,\"ticks\":\"\"}}}],\"histogram\":[{\"marker\":{\"pattern\":{\"fillmode\":\"overlay\",\"size\":10,\"solidity\":0.2}},\"type\":\"histogram\"}],\"scattergl\":[{\"type\":\"scattergl\",\"marker\":{\"colorbar\":{\"outlinewidth\":0,\"ticks\":\"\"}}}],\"scatter3d\":[{\"type\":\"scatter3d\",\"line\":{\"colorbar\":{\"outlinewidth\":0,\"ticks\":\"\"}},\"marker\":{\"colorbar\":{\"outlinewidth\":0,\"ticks\":\"\"}}}],\"scattermapbox\":[{\"type\":\"scattermapbox\",\"marker\":{\"colorbar\":{\"outlinewidth\":0,\"ticks\":\"\"}}}],\"scatterternary\":[{\"type\":\"scatterternary\",\"marker\":{\"colorbar\":{\"outlinewidth\":0,\"ticks\":\"\"}}}],\"scattercarpet\":[{\"type\":\"scattercarpet\",\"marker\":{\"colorbar\":{\"outlinewidth\":0,\"ticks\":\"\"}}}],\"carpet\":[{\"aaxis\":{\"endlinecolor\":\"#2a3f5f\",\"gridcolor\":\"white\",\"linecolor\":\"white\",\"minorgridcolor\":\"white\",\"startlinecolor\":\"#2a3f5f\"},\"baxis\":{\"endlinecolor\":\"#2a3f5f\",\"gridcolor\":\"white\",\"linecolor\":\"white\",\"minorgridcolor\":\"white\",\"startlinecolor\":\"#2a3f5f\"},\"type\":\"carpet\"}],\"table\":[{\"cells\":{\"fill\":{\"color\":\"#EBF0F8\"},\"line\":{\"color\":\"white\"}},\"header\":{\"fill\":{\"color\":\"#C8D4E3\"},\"line\":{\"color\":\"white\"}},\"type\":\"table\"}],\"barpolar\":[{\"marker\":{\"line\":{\"color\":\"#E5ECF6\",\"width\":0.5},\"pattern\":{\"fillmode\":\"overlay\",\"size\":10,\"solidity\":0.2}},\"type\":\"barpolar\"}],\"pie\":[{\"automargin\":true,\"type\":\"pie\"}]},\"layout\":{\"autotypenumbers\":\"strict\",\"colorway\":[\"#636efa\",\"#EF553B\",\"#00cc96\",\"#ab63fa\",\"#FFA15A\",\"#19d3f3\",\"#FF6692\",\"#B6E880\",\"#FF97FF\",\"#FECB52\"],\"font\":{\"color\":\"#2a3f5f\"},\"hovermode\":\"closest\",\"hoverlabel\":{\"align\":\"left\"},\"paper_bgcolor\":\"white\",\"plot_bgcolor\":\"#E5ECF6\",\"polar\":{\"bgcolor\":\"#E5ECF6\",\"angularaxis\":{\"gridcolor\":\"white\",\"linecolor\":\"white\",\"ticks\":\"\"},\"radialaxis\":{\"gridcolor\":\"white\",\"linecolor\":\"white\",\"ticks\":\"\"}},\"ternary\":{\"bgcolor\":\"#E5ECF6\",\"aaxis\":{\"gridcolor\":\"white\",\"linecolor\":\"white\",\"ticks\":\"\"},\"baxis\":{\"gridcolor\":\"white\",\"linecolor\":\"white\",\"ticks\":\"\"},\"caxis\":{\"gridcolor\":\"white\",\"linecolor\":\"white\",\"ticks\":\"\"}},\"coloraxis\":{\"colorbar\":{\"outlinewidth\":0,\"ticks\":\"\"}},\"colorscale\":{\"sequential\":[[0.0,\"#0d0887\"],[0.1111111111111111,\"#46039f\"],[0.2222222222222222,\"#7201a8\"],[0.3333333333333333,\"#9c179e\"],[0.4444444444444444,\"#bd3786\"],[0.5555555555555556,\"#d8576b\"],[0.6666666666666666,\"#ed7953\"],[0.7777777777777778,\"#fb9f3a\"],[0.8888888888888888,\"#fdca26\"],[1.0,\"#f0f921\"]],\"sequentialminus\":[[0.0,\"#0d0887\"],[0.1111111111111111,\"#46039f\"],[0.2222222222222222,\"#7201a8\"],[0.3333333333333333,\"#9c179e\"],[0.4444444444444444,\"#bd3786\"],[0.5555555555555556,\"#d8576b\"],[0.6666666666666666,\"#ed7953\"],[0.7777777777777778,\"#fb9f3a\"],[0.8888888888888888,\"#fdca26\"],[1.0,\"#f0f921\"]],\"diverging\":[[0,\"#8e0152\"],[0.1,\"#c51b7d\"],[0.2,\"#de77ae\"],[0.3,\"#f1b6da\"],[0.4,\"#fde0ef\"],[0.5,\"#f7f7f7\"],[0.6,\"#e6f5d0\"],[0.7,\"#b8e186\"],[0.8,\"#7fbc41\"],[0.9,\"#4d9221\"],[1,\"#276419\"]]},\"xaxis\":{\"gridcolor\":\"white\",\"linecolor\":\"white\",\"ticks\":\"\",\"title\":{\"standoff\":15},\"zerolinecolor\":\"white\",\"automargin\":true,\"zerolinewidth\":2},\"yaxis\":{\"gridcolor\":\"white\",\"linecolor\":\"white\",\"ticks\":\"\",\"title\":{\"standoff\":15},\"zerolinecolor\":\"white\",\"automargin\":true,\"zerolinewidth\":2},\"scene\":{\"xaxis\":{\"backgroundcolor\":\"#E5ECF6\",\"gridcolor\":\"white\",\"linecolor\":\"white\",\"showbackground\":true,\"ticks\":\"\",\"zerolinecolor\":\"white\",\"gridwidth\":2},\"yaxis\":{\"backgroundcolor\":\"#E5ECF6\",\"gridcolor\":\"white\",\"linecolor\":\"white\",\"showbackground\":true,\"ticks\":\"\",\"zerolinecolor\":\"white\",\"gridwidth\":2},\"zaxis\":{\"backgroundcolor\":\"#E5ECF6\",\"gridcolor\":\"white\",\"linecolor\":\"white\",\"showbackground\":true,\"ticks\":\"\",\"zerolinecolor\":\"white\",\"gridwidth\":2}},\"shapedefaults\":{\"line\":{\"color\":\"#2a3f5f\"}},\"annotationdefaults\":{\"arrowcolor\":\"#2a3f5f\",\"arrowhead\":0,\"arrowwidth\":1},\"geo\":{\"bgcolor\":\"white\",\"landcolor\":\"#E5ECF6\",\"subunitcolor\":\"white\",\"showland\":true,\"showlakes\":true,\"lakecolor\":\"white\"},\"title\":{\"x\":0.05},\"mapbox\":{\"style\":\"light\"}}},\"xaxis\":{\"anchor\":\"y\",\"domain\":[0.0,1.0],\"title\":{\"text\":\"GFLOPS\"}},\"yaxis\":{\"anchor\":\"x\",\"domain\":[0.0,1.0],\"title\":{\"text\":\"Acc@5\"}},\"legend\":{\"title\":{\"text\":\"family\"},\"tracegroupgap\":0},\"margin\":{\"t\":60}},                        {\"responsive\": true}                    ).then(function(){\n",
       "                            \n",
       "var gd = document.getElementById('e6a55fc6-a2e6-4fc6-8b9d-612cf4be057b');\n",
       "var x = new MutationObserver(function (mutations, observer) {{\n",
       "        var display = window.getComputedStyle(gd).display;\n",
       "        if (!display || display === 'none') {{\n",
       "            console.log([gd, 'removed!']);\n",
       "            Plotly.purge(gd);\n",
       "            observer.disconnect();\n",
       "        }}\n",
       "}});\n",
       "\n",
       "// Listen for the removal of the full notebook cells\n",
       "var notebookContainer = gd.closest('#notebook-container');\n",
       "if (notebookContainer) {{\n",
       "    x.observe(notebookContainer, {childList: true});\n",
       "}}\n",
       "\n",
       "// Listen for the clearing of the current output cell\n",
       "var outputEl = gd.closest('.output');\n",
       "if (outputEl) {{\n",
       "    x.observe(outputEl, {childList: true});\n",
       "}}\n",
       "\n",
       "                        })                };                });            </script>        </div>"
      ]
     },
     "metadata": {},
     "output_type": "display_data"
    }
   ],
   "source": [
    "px.scatter(df, x='GFLOPS', y='Acc@5', color='family', labels='Weight', hover_name='name')"
   ]
  }
 ],
 "metadata": {
  "kernelspec": {
   "display_name": "base",
   "language": "python",
   "name": "python3"
  },
  "language_info": {
   "codemirror_mode": {
    "name": "ipython",
    "version": 3
   },
   "file_extension": ".py",
   "mimetype": "text/x-python",
   "name": "python",
   "nbconvert_exporter": "python",
   "pygments_lexer": "ipython3",
   "version": "3.8.5"
  },
  "orig_nbformat": 4,
  "vscode": {
   "interpreter": {
    "hash": "869e465c4f25397806eb98effb5307a5d5d93b3ae0a2a52b8d6469552bf70b42"
   }
  }
 },
 "nbformat": 4,
 "nbformat_minor": 2
}
