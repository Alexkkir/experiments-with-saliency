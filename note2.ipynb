{
 "cells": [
  {
   "cell_type": "code",
   "execution_count": 1,
   "metadata": {},
   "outputs": [
    {
     "name": "stderr",
     "output_type": "stream",
     "text": [
      "2023-01-25 21:11:27.509965: I tensorflow/core/platform/cpu_feature_guard.cc:193] This TensorFlow binary is optimized with oneAPI Deep Neural Network Library (oneDNN) to use the following CPU instructions in performance-critical operations:  AVX2 AVX512F AVX512_VNNI FMA\n",
      "To enable them in other operations, rebuild TensorFlow with the appropriate compiler flags.\n",
      "2023-01-25 21:11:27.682362: I tensorflow/core/util/port.cc:104] oneDNN custom operations are on. You may see slightly different numerical results due to floating-point round-off errors from different computation orders. To turn them off, set the environment variable `TF_ENABLE_ONEDNN_OPTS=0`.\n",
      "2023-01-25 21:11:28.470518: W tensorflow/compiler/xla/stream_executor/platform/default/dso_loader.cc:64] Could not load dynamic library 'libnvinfer.so.7'; dlerror: libnvinfer.so.7: cannot open shared object file: No such file or directory; LD_LIBRARY_PATH: /home/alexkkir/anaconda3/lib/python3.8/site-packages/cv2/../../lib64:\n",
      "2023-01-25 21:11:28.470597: W tensorflow/compiler/xla/stream_executor/platform/default/dso_loader.cc:64] Could not load dynamic library 'libnvinfer_plugin.so.7'; dlerror: libnvinfer_plugin.so.7: cannot open shared object file: No such file or directory; LD_LIBRARY_PATH: /home/alexkkir/anaconda3/lib/python3.8/site-packages/cv2/../../lib64:\n",
      "2023-01-25 21:11:28.470604: W tensorflow/compiler/tf2tensorrt/utils/py_utils.cc:38] TF-TRT Warning: Cannot dlopen some TensorRT libraries. If you would like to use Nvidia GPU with TensorRT, please make sure the missing libraries mentioned above are installed properly.\n"
     ]
    }
   ],
   "source": [
    "%load_ext autoreload\n",
    "%autoreload 2\n",
    "\n",
    "import lib"
   ]
  },
  {
   "cell_type": "code",
   "execution_count": 2,
   "metadata": {},
   "outputs": [],
   "source": [
    "import wandb"
   ]
  },
  {
   "cell_type": "code",
   "execution_count": 3,
   "metadata": {},
   "outputs": [
    {
     "name": "stderr",
     "output_type": "stream",
     "text": [
      "Failed to detect the name of this notebook, you can set it manually with the WANDB_NOTEBOOK_NAME environment variable to enable code saving.\n",
      "\u001b[34m\u001b[1mwandb\u001b[0m: Currently logged in as: \u001b[33malexkkir\u001b[0m. Use \u001b[1m`wandb login --relogin`\u001b[0m to force relogin\n"
     ]
    },
    {
     "data": {
      "text/html": [
       "Tracking run with wandb version 0.13.9"
      ],
      "text/plain": [
       "<IPython.core.display.HTML object>"
      ]
     },
     "metadata": {},
     "output_type": "display_data"
    },
    {
     "data": {
      "text/html": [
       "Run data is saved locally in <code>/home/alexkkir/experiments-with-saliency/wandb/run-20230125_212736-z9s3hgml</code>"
      ],
      "text/plain": [
       "<IPython.core.display.HTML object>"
      ]
     },
     "metadata": {},
     "output_type": "display_data"
    },
    {
     "data": {
      "text/html": [
       "Syncing run <strong><a href=\"https://wandb.ai/alexkkir/IQA/runs/z9s3hgml\" target=\"_blank\">dancing-cake-64</a></strong> to <a href=\"https://wandb.ai/alexkkir/IQA\" target=\"_blank\">Weights & Biases</a> (<a href=\"https://wandb.me/run\" target=\"_blank\">docs</a>)<br/>"
      ],
      "text/plain": [
       "<IPython.core.display.HTML object>"
      ]
     },
     "metadata": {},
     "output_type": "display_data"
    },
    {
     "data": {
      "text/html": [
       " View project at <a href=\"https://wandb.ai/alexkkir/IQA\" target=\"_blank\">https://wandb.ai/alexkkir/IQA</a>"
      ],
      "text/plain": [
       "<IPython.core.display.HTML object>"
      ]
     },
     "metadata": {},
     "output_type": "display_data"
    },
    {
     "data": {
      "text/html": [
       " View run at <a href=\"https://wandb.ai/alexkkir/IQA/runs/z9s3hgml\" target=\"_blank\">https://wandb.ai/alexkkir/IQA/runs/z9s3hgml</a>"
      ],
      "text/plain": [
       "<IPython.core.display.HTML object>"
      ]
     },
     "metadata": {},
     "output_type": "display_data"
    },
    {
     "data": {
      "text/html": [
       "<button onClick=\"this.nextSibling.style.display='block';this.style.display='none';\">Display W&B run</button><iframe src=\"https://wandb.ai/alexkkir/IQA/runs/z9s3hgml?jupyter=true\" style=\"border:none;width:100%;height:420px;display:none;\"></iframe>"
      ],
      "text/plain": [
       "<wandb.sdk.wandb_run.Run at 0x7f708f5d6280>"
      ]
     },
     "execution_count": 3,
     "metadata": {},
     "output_type": "execute_result"
    }
   ],
   "source": [
    "wandb.init(\n",
    "    entity='alexkkir',\n",
    "    project='IQA',\n",
    "    job_type='upload'\n",
    ")"
   ]
  },
  {
   "cell_type": "code",
   "execution_count": 4,
   "metadata": {},
   "outputs": [
    {
     "name": "stderr",
     "output_type": "stream",
     "text": [
      "\u001b[34m\u001b[1mwandb\u001b[0m: Adding directory to artifact (./iqa)... "
     ]
    },
    {
     "ename": "OSError",
     "evalue": "[Errno 28] No space left on device: 'iqa/KoNViD_1k_videos/9812197286.mp4' -> '/home/alexkkir/.local/share/wandb/artifacts/staging/tmpqens28k8'",
     "output_type": "error",
     "traceback": [
      "\u001b[0;31m---------------------------------------------------------------------------\u001b[0m",
      "\u001b[0;31mOSError\u001b[0m                                   Traceback (most recent call last)",
      "Cell \u001b[0;32mIn [4], line 2\u001b[0m\n\u001b[1;32m      1\u001b[0m artifact \u001b[39m=\u001b[39m wandb\u001b[39m.\u001b[39mArtifact(\u001b[39m'\u001b[39m\u001b[39miqa_datasets\u001b[39m\u001b[39m'\u001b[39m, \u001b[39mtype\u001b[39m\u001b[39m=\u001b[39m\u001b[39m'\u001b[39m\u001b[39mdataset\u001b[39m\u001b[39m'\u001b[39m)\n\u001b[0;32m----> 2\u001b[0m artifact\u001b[39m.\u001b[39;49madd_dir(\u001b[39m'\u001b[39;49m\u001b[39miqa\u001b[39;49m\u001b[39m'\u001b[39;49m)\n\u001b[1;32m      3\u001b[0m wandb\u001b[39m.\u001b[39mlog_artifact(artifact)\n",
      "File \u001b[0;32m~/anaconda3/lib/python3.8/site-packages/wandb/sdk/wandb_artifacts.py:464\u001b[0m, in \u001b[0;36mArtifact.add_dir\u001b[0;34m(self, local_path, name)\u001b[0m\n\u001b[1;32m    462\u001b[0m num_threads \u001b[39m=\u001b[39m \u001b[39m8\u001b[39m\n\u001b[1;32m    463\u001b[0m pool \u001b[39m=\u001b[39m multiprocessing\u001b[39m.\u001b[39mdummy\u001b[39m.\u001b[39mPool(num_threads)\n\u001b[0;32m--> 464\u001b[0m pool\u001b[39m.\u001b[39;49mmap(add_manifest_file, paths)\n\u001b[1;32m    465\u001b[0m pool\u001b[39m.\u001b[39mclose()\n\u001b[1;32m    466\u001b[0m pool\u001b[39m.\u001b[39mjoin()\n",
      "File \u001b[0;32m~/anaconda3/lib/python3.8/multiprocessing/pool.py:364\u001b[0m, in \u001b[0;36mPool.map\u001b[0;34m(self, func, iterable, chunksize)\u001b[0m\n\u001b[1;32m    359\u001b[0m \u001b[39mdef\u001b[39;00m \u001b[39mmap\u001b[39m(\u001b[39mself\u001b[39m, func, iterable, chunksize\u001b[39m=\u001b[39m\u001b[39mNone\u001b[39;00m):\n\u001b[1;32m    360\u001b[0m     \u001b[39m'''\u001b[39;00m\n\u001b[1;32m    361\u001b[0m \u001b[39m    Apply `func` to each element in `iterable`, collecting the results\u001b[39;00m\n\u001b[1;32m    362\u001b[0m \u001b[39m    in a list that is returned.\u001b[39;00m\n\u001b[1;32m    363\u001b[0m \u001b[39m    '''\u001b[39;00m\n\u001b[0;32m--> 364\u001b[0m     \u001b[39mreturn\u001b[39;00m \u001b[39mself\u001b[39;49m\u001b[39m.\u001b[39;49m_map_async(func, iterable, mapstar, chunksize)\u001b[39m.\u001b[39;49mget()\n",
      "File \u001b[0;32m~/anaconda3/lib/python3.8/multiprocessing/pool.py:771\u001b[0m, in \u001b[0;36mApplyResult.get\u001b[0;34m(self, timeout)\u001b[0m\n\u001b[1;32m    769\u001b[0m     \u001b[39mreturn\u001b[39;00m \u001b[39mself\u001b[39m\u001b[39m.\u001b[39m_value\n\u001b[1;32m    770\u001b[0m \u001b[39melse\u001b[39;00m:\n\u001b[0;32m--> 771\u001b[0m     \u001b[39mraise\u001b[39;00m \u001b[39mself\u001b[39m\u001b[39m.\u001b[39m_value\n",
      "File \u001b[0;32m~/anaconda3/lib/python3.8/multiprocessing/pool.py:125\u001b[0m, in \u001b[0;36mworker\u001b[0;34m(inqueue, outqueue, initializer, initargs, maxtasks, wrap_exception)\u001b[0m\n\u001b[1;32m    123\u001b[0m job, i, func, args, kwds \u001b[39m=\u001b[39m task\n\u001b[1;32m    124\u001b[0m \u001b[39mtry\u001b[39;00m:\n\u001b[0;32m--> 125\u001b[0m     result \u001b[39m=\u001b[39m (\u001b[39mTrue\u001b[39;00m, func(\u001b[39m*\u001b[39;49margs, \u001b[39m*\u001b[39;49m\u001b[39m*\u001b[39;49mkwds))\n\u001b[1;32m    126\u001b[0m \u001b[39mexcept\u001b[39;00m \u001b[39mException\u001b[39;00m \u001b[39mas\u001b[39;00m e:\n\u001b[1;32m    127\u001b[0m     \u001b[39mif\u001b[39;00m wrap_exception \u001b[39mand\u001b[39;00m func \u001b[39mis\u001b[39;00m \u001b[39mnot\u001b[39;00m _helper_reraises_exception:\n",
      "File \u001b[0;32m~/anaconda3/lib/python3.8/multiprocessing/pool.py:48\u001b[0m, in \u001b[0;36mmapstar\u001b[0;34m(args)\u001b[0m\n\u001b[1;32m     47\u001b[0m \u001b[39mdef\u001b[39;00m \u001b[39mmapstar\u001b[39m(args):\n\u001b[0;32m---> 48\u001b[0m     \u001b[39mreturn\u001b[39;00m \u001b[39mlist\u001b[39;49m(\u001b[39mmap\u001b[39;49m(\u001b[39m*\u001b[39;49margs))\n",
      "File \u001b[0;32m~/anaconda3/lib/python3.8/site-packages/wandb/sdk/wandb_artifacts.py:458\u001b[0m, in \u001b[0;36mArtifact.add_dir.<locals>.add_manifest_file\u001b[0;34m(log_phy_path)\u001b[0m\n\u001b[1;32m    456\u001b[0m \u001b[39mdef\u001b[39;00m \u001b[39madd_manifest_file\u001b[39m(log_phy_path: Tuple[\u001b[39mstr\u001b[39m, \u001b[39mstr\u001b[39m]) \u001b[39m-\u001b[39m\u001b[39m>\u001b[39m \u001b[39mNone\u001b[39;00m:\n\u001b[1;32m    457\u001b[0m     logical_path, physical_path \u001b[39m=\u001b[39m log_phy_path\n\u001b[0;32m--> 458\u001b[0m     \u001b[39mself\u001b[39;49m\u001b[39m.\u001b[39;49m_add_local_file(logical_path, physical_path)\n",
      "File \u001b[0;32m~/anaconda3/lib/python3.8/site-packages/wandb/sdk/wandb_artifacts.py:751\u001b[0m, in \u001b[0;36mArtifact._add_local_file\u001b[0;34m(self, name, path, digest)\u001b[0m\n\u001b[1;32m    749\u001b[0m \u001b[39mwith\u001b[39;00m get_new_staging_file() \u001b[39mas\u001b[39;00m f:\n\u001b[1;32m    750\u001b[0m     staging_path \u001b[39m=\u001b[39m f\u001b[39m.\u001b[39mname\n\u001b[0;32m--> 751\u001b[0m     shutil\u001b[39m.\u001b[39;49mcopyfile(path, staging_path)\n\u001b[1;32m    753\u001b[0m entry \u001b[39m=\u001b[39m ArtifactManifestEntry(\n\u001b[1;32m    754\u001b[0m     path\u001b[39m=\u001b[39mname,\n\u001b[1;32m    755\u001b[0m     digest\u001b[39m=\u001b[39mdigest,\n\u001b[1;32m    756\u001b[0m     size\u001b[39m=\u001b[39msize,\n\u001b[1;32m    757\u001b[0m     local_path\u001b[39m=\u001b[39mstaging_path,\n\u001b[1;32m    758\u001b[0m )\n\u001b[1;32m    760\u001b[0m \u001b[39mself\u001b[39m\u001b[39m.\u001b[39m_manifest\u001b[39m.\u001b[39madd_entry(entry)\n",
      "File \u001b[0;32m~/anaconda3/lib/python3.8/shutil.py:272\u001b[0m, in \u001b[0;36mcopyfile\u001b[0;34m(src, dst, follow_symlinks)\u001b[0m\n\u001b[1;32m    270\u001b[0m \u001b[39melif\u001b[39;00m _USE_CP_SENDFILE:\n\u001b[1;32m    271\u001b[0m     \u001b[39mtry\u001b[39;00m:\n\u001b[0;32m--> 272\u001b[0m         _fastcopy_sendfile(fsrc, fdst)\n\u001b[1;32m    273\u001b[0m         \u001b[39mreturn\u001b[39;00m dst\n\u001b[1;32m    274\u001b[0m     \u001b[39mexcept\u001b[39;00m _GiveupOnFastCopy:\n",
      "File \u001b[0;32m~/anaconda3/lib/python3.8/shutil.py:163\u001b[0m, in \u001b[0;36m_fastcopy_sendfile\u001b[0;34m(fsrc, fdst)\u001b[0m\n\u001b[1;32m    160\u001b[0m     \u001b[39mraise\u001b[39;00m _GiveupOnFastCopy(err)\n\u001b[1;32m    162\u001b[0m \u001b[39mif\u001b[39;00m err\u001b[39m.\u001b[39merrno \u001b[39m==\u001b[39m errno\u001b[39m.\u001b[39mENOSPC:  \u001b[39m# filesystem is full\u001b[39;00m\n\u001b[0;32m--> 163\u001b[0m     \u001b[39mraise\u001b[39;00m err \u001b[39mfrom\u001b[39;00m \u001b[39mNone\u001b[39m\n\u001b[1;32m    165\u001b[0m \u001b[39m# Give up on first call and if no data was copied.\u001b[39;00m\n\u001b[1;32m    166\u001b[0m \u001b[39mif\u001b[39;00m offset \u001b[39m==\u001b[39m \u001b[39m0\u001b[39m \u001b[39mand\u001b[39;00m os\u001b[39m.\u001b[39mlseek(outfd, \u001b[39m0\u001b[39m, os\u001b[39m.\u001b[39mSEEK_CUR) \u001b[39m==\u001b[39m \u001b[39m0\u001b[39m:\n",
      "File \u001b[0;32m~/anaconda3/lib/python3.8/shutil.py:149\u001b[0m, in \u001b[0;36m_fastcopy_sendfile\u001b[0;34m(fsrc, fdst)\u001b[0m\n\u001b[1;32m    147\u001b[0m \u001b[39mwhile\u001b[39;00m \u001b[39mTrue\u001b[39;00m:\n\u001b[1;32m    148\u001b[0m     \u001b[39mtry\u001b[39;00m:\n\u001b[0;32m--> 149\u001b[0m         sent \u001b[39m=\u001b[39m os\u001b[39m.\u001b[39;49msendfile(outfd, infd, offset, blocksize)\n\u001b[1;32m    150\u001b[0m     \u001b[39mexcept\u001b[39;00m \u001b[39mOSError\u001b[39;00m \u001b[39mas\u001b[39;00m err:\n\u001b[1;32m    151\u001b[0m         \u001b[39m# ...in oder to have a more informative exception.\u001b[39;00m\n\u001b[1;32m    152\u001b[0m         err\u001b[39m.\u001b[39mfilename \u001b[39m=\u001b[39m fsrc\u001b[39m.\u001b[39mname\n",
      "\u001b[0;31mOSError\u001b[0m: [Errno 28] No space left on device: 'iqa/KoNViD_1k_videos/9812197286.mp4' -> '/home/alexkkir/.local/share/wandb/artifacts/staging/tmpqens28k8'"
     ]
    }
   ],
   "source": [
    "artifact = wandb.Artifact('iqa_datasets', type='dataset')\n",
    "artifact.add_dir('iqa')\n",
    "wandb.log_artifact(artifact)"
   ]
  },
  {
   "cell_type": "code",
   "execution_count": null,
   "metadata": {},
   "outputs": [],
   "source": [
    "l"
   ]
  }
 ],
 "metadata": {
  "kernelspec": {
   "display_name": "base",
   "language": "python",
   "name": "python3"
  },
  "language_info": {
   "codemirror_mode": {
    "name": "ipython",
    "version": 3
   },
   "file_extension": ".py",
   "mimetype": "text/x-python",
   "name": "python",
   "nbconvert_exporter": "python",
   "pygments_lexer": "ipython3",
   "version": "3.8.5 (default, Sep  4 2020, 07:30:14) \n[GCC 7.3.0]"
  },
  "orig_nbformat": 4,
  "vscode": {
   "interpreter": {
    "hash": "869e465c4f25397806eb98effb5307a5d5d93b3ae0a2a52b8d6469552bf70b42"
   }
  }
 },
 "nbformat": 4,
 "nbformat_minor": 2
}
