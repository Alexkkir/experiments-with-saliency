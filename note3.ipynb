{
 "cells": [
  {
   "cell_type": "code",
   "execution_count": 3,
   "metadata": {},
   "outputs": [],
   "source": [
    "import lib\n",
    "import yaml\n",
    "import os, sys\n",
    "import wandb\n",
    "\n",
    "import pytorch_lightning as pl\n",
    "from pytorch_lightning.loggers import WandbLogger\n",
    "from pytorch_lightning.callbacks import ModelCheckpoint, EarlyStopping"
   ]
  },
  {
   "cell_type": "code",
   "execution_count": 5,
   "metadata": {},
   "outputs": [
    {
     "data": {
      "text/plain": [
       "{'saliency': True,\n",
       " 'name': 'check main.py #2',\n",
       " 'device': 0,\n",
       " 'wandb': False,\n",
       " 'visualize_saliency': False,\n",
       " 'clive': {'images': 'iqa/CLIVE/images',\n",
       "  'saliency_maps': 'iqa/CLIVE/saliency_maps',\n",
       "  'data': 'iqa/CLIVE/data.csv'},\n",
       " 'koniq10k': {'images': 'iqa/koniq10k/images',\n",
       "  'saliency_maps': 'iqa/koniq10k/saliency_maps',\n",
       "  'data': 'iqa/koniq10k/data.csv'},\n",
       " 'image_shape': [384, 512],\n",
       " 'saliency_shape': [12, 16],\n",
       " 'batch_size': 16,\n",
       " 'num_workers': 16,\n",
       " 'learning_rate_head': 0.0003,\n",
       " 'learning_rate_backbone': 3e-05,\n",
       " 'max_epochs': 2,\n",
       " 'model_checkpoint_best': {'monitor': 'val_srocc',\n",
       "  'mode': 'max',\n",
       "  'save_top_k': 1,\n",
       "  'save_weights_only': True,\n",
       "  'verbose': True},\n",
       " 'model_checkpoint_last': {'save_weights_only': True, 'verbose': True},\n",
       " 'early_stopping': {'monitor': 'val_srocc',\n",
       "  'mode': 'max',\n",
       "  'patience': 8,\n",
       "  'verbose': True},\n",
       " 'lr_scheduler': {'step_size': 7, 'gamma': 0.1, 'verbose': True},\n",
       " 'alpha_sal': 0.2,\n",
       " 'lr_dict': {'interval': 'epoch', 'frequency': 1}}"
      ]
     },
     "execution_count": 5,
     "metadata": {},
     "output_type": "execute_result"
    }
   ],
   "source": [
    "import pickle\n",
    "\n",
    "with open('opts.pkl', 'rb') as f:\n",
    "    opts = pickle.load(f)\n",
    "opts"
   ]
  },
  {
   "cell_type": "code",
   "execution_count": 6,
   "metadata": {},
   "outputs": [],
   "source": [
    "opts['name'] = 'debug_checkpoint'"
   ]
  },
  {
   "cell_type": "code",
   "execution_count": 10,
   "metadata": {},
   "outputs": [
    {
     "name": "stderr",
     "output_type": "stream",
     "text": [
      "GPU available: True (cuda), used: True\n",
      "TPU available: False, using: 0 TPU cores\n",
      "IPU available: False, using: 0 IPUs\n",
      "HPU available: False, using: 0 HPUs\n",
      "LOCAL_RANK: 0 - CUDA_VISIBLE_DEVICES: [0,1,2,3]\n",
      "\n",
      "  | Name     | Type       | Params\n",
      "----------------------------------------\n",
      "0 | backbone | Sequential | 7.7 M \n",
      "1 | mlp      | Sequential | 1.7 M \n",
      "2 | sal_conv | Conv2d     | 1.4 K \n",
      "3 | mse_loss | MSELoss    | 0     \n",
      "----------------------------------------\n",
      "9.4 M     Trainable params\n",
      "0         Non-trainable params\n",
      "9.4 M     Total params\n",
      "37.642    Total estimated model params size (MB)\n"
     ]
    },
    {
     "name": "stdout",
     "output_type": "stream",
     "text": [
      "Adjusting learning rate of group 0 to 3.0000e-05.\n",
      "Adjusting learning rate of group 1 to 3.0000e-04.\n"
     ]
    },
    {
     "data": {
      "application/vnd.jupyter.widget-view+json": {
       "model_id": "32127e34e05c4798af278a2c43cd6bc6",
       "version_major": 2,
       "version_minor": 0
      },
      "text/plain": [
       "Sanity Checking: 0it [00:00, ?it/s]"
      ]
     },
     "metadata": {},
     "output_type": "display_data"
    },
    {
     "name": "stdout",
     "output_type": "stream",
     "text": [
      "[Epoch   0] VALID plcc: -0.49, srocc: -0.48, loss: 3016.69 "
     ]
    },
    {
     "data": {
      "application/vnd.jupyter.widget-view+json": {
       "model_id": "36729905f9e04c94b23508b617a8e4fb",
       "version_major": 2,
       "version_minor": 0
      },
      "text/plain": [
       "Training: 0it [00:00, ?it/s]"
      ]
     },
     "metadata": {},
     "output_type": "display_data"
    },
    {
     "name": "stdout",
     "output_type": "stream",
     "text": [
      "Adjusting learning rate of group 0 to 3.0000e-05.\n",
      "Adjusting learning rate of group 1 to 3.0000e-04.\n"
     ]
    },
    {
     "data": {
      "application/vnd.jupyter.widget-view+json": {
       "model_id": "d1cf18819bf0446191f29c8f958bf6ad",
       "version_major": 2,
       "version_minor": 0
      },
      "text/plain": [
       "Validation: 0it [00:00, ?it/s]"
      ]
     },
     "metadata": {},
     "output_type": "display_data"
    },
    {
     "name": "stderr",
     "output_type": "stream",
     "text": [
      "Metric val_srocc improved. New best score: 0.088\n",
      "Epoch 0, global step 8: 'val_srocc' reached 0.08833 (best 0.08833), saving model to '/home/alexkkir/experiments-with-saliency/checkpoints/debug_checkpoint/best_date=2023-01-31_19:12_val_srocc=0.088_epoch=0.ckpt' as top 1\n"
     ]
    },
    {
     "name": "stdout",
     "output_type": "stream",
     "text": [
      "[Epoch   0] VALID plcc: 0.10, srocc: 0.09, loss: 3220.67 | TRAIN plcc: 0.08, srocc: 0.10, loss: 2654.96\n",
      "Adjusting learning rate of group 0 to 3.0000e-05.\n",
      "Adjusting learning rate of group 1 to 3.0000e-04.\n"
     ]
    },
    {
     "data": {
      "application/vnd.jupyter.widget-view+json": {
       "model_id": "c9fbd8a4c4d1425a9b3b4ea06d0adb03",
       "version_major": 2,
       "version_minor": 0
      },
      "text/plain": [
       "Validation: 0it [00:00, ?it/s]"
      ]
     },
     "metadata": {},
     "output_type": "display_data"
    },
    {
     "name": "stderr",
     "output_type": "stream",
     "text": [
      "Metric val_srocc improved by 0.074 >= min_delta = 0.0. New best score: 0.162\n",
      "Epoch 1, global step 16: 'val_srocc' reached 0.16195 (best 0.16195), saving model to '/home/alexkkir/experiments-with-saliency/checkpoints/debug_checkpoint/best_date=2023-01-31_19:12_val_srocc=0.162_epoch=1.ckpt' as top 1\n"
     ]
    },
    {
     "name": "stdout",
     "output_type": "stream",
     "text": [
      "[Epoch   1] VALID plcc: 0.17, srocc: 0.16, loss: 3197.66 | TRAIN plcc: 0.41, srocc: 0.36, loss: 2689.56\n",
      "Adjusting learning rate of group 0 to 3.0000e-05.\n",
      "Adjusting learning rate of group 1 to 3.0000e-04.\n"
     ]
    },
    {
     "data": {
      "application/vnd.jupyter.widget-view+json": {
       "model_id": "32122a87c8bf4ed7902803c8663ea8dc",
       "version_major": 2,
       "version_minor": 0
      },
      "text/plain": [
       "Validation: 0it [00:00, ?it/s]"
      ]
     },
     "metadata": {},
     "output_type": "display_data"
    },
    {
     "name": "stderr",
     "output_type": "stream",
     "text": [
      "Metric val_srocc improved by 0.059 >= min_delta = 0.0. New best score: 0.221\n",
      "Epoch 2, global step 24: 'val_srocc' reached 0.22116 (best 0.22116), saving model to '/home/alexkkir/experiments-with-saliency/checkpoints/debug_checkpoint/best_date=2023-01-31_19:12_val_srocc=0.221_epoch=2.ckpt' as top 1\n"
     ]
    },
    {
     "name": "stdout",
     "output_type": "stream",
     "text": [
      "[Epoch   2] VALID plcc: 0.24, srocc: 0.22, loss: 3169.11 | TRAIN plcc: 0.50, srocc: 0.43, loss: 2703.99\n",
      "Adjusting learning rate of group 0 to 3.0000e-05.\n",
      "Adjusting learning rate of group 1 to 3.0000e-04.\n"
     ]
    },
    {
     "data": {
      "application/vnd.jupyter.widget-view+json": {
       "model_id": "35f50fb953c84f308b455cb8adbde095",
       "version_major": 2,
       "version_minor": 0
      },
      "text/plain": [
       "Validation: 0it [00:00, ?it/s]"
      ]
     },
     "metadata": {},
     "output_type": "display_data"
    },
    {
     "name": "stderr",
     "output_type": "stream",
     "text": [
      "Metric val_srocc improved by 0.032 >= min_delta = 0.0. New best score: 0.253\n",
      "Epoch 3, global step 32: 'val_srocc' reached 0.25331 (best 0.25331), saving model to '/home/alexkkir/experiments-with-saliency/checkpoints/debug_checkpoint/best_date=2023-01-31_19:12_val_srocc=0.253_epoch=3.ckpt' as top 1\n"
     ]
    },
    {
     "name": "stdout",
     "output_type": "stream",
     "text": [
      "[Epoch   3] VALID plcc: 0.27, srocc: 0.25, loss: 3135.11 | TRAIN plcc: 0.63, srocc: 0.60, loss: 2652.73\n",
      "Adjusting learning rate of group 0 to 3.0000e-05.\n",
      "Adjusting learning rate of group 1 to 3.0000e-04.\n"
     ]
    },
    {
     "data": {
      "application/vnd.jupyter.widget-view+json": {
       "model_id": "6f265f09a121473fbe50a057425b464f",
       "version_major": 2,
       "version_minor": 0
      },
      "text/plain": [
       "Validation: 0it [00:00, ?it/s]"
      ]
     },
     "metadata": {},
     "output_type": "display_data"
    },
    {
     "name": "stderr",
     "output_type": "stream",
     "text": [
      "Metric val_srocc improved by 0.038 >= min_delta = 0.0. New best score: 0.291\n",
      "Epoch 4, global step 40: 'val_srocc' reached 0.29126 (best 0.29126), saving model to '/home/alexkkir/experiments-with-saliency/checkpoints/debug_checkpoint/best_date=2023-01-31_19:12_val_srocc=0.291_epoch=4.ckpt' as top 1\n"
     ]
    },
    {
     "name": "stdout",
     "output_type": "stream",
     "text": [
      "[Epoch   4] VALID plcc: 0.31, srocc: 0.29, loss: 3099.80 | TRAIN plcc: 0.64, srocc: 0.62, loss: 2602.95\n",
      "Adjusting learning rate of group 0 to 3.0000e-05.\n",
      "Adjusting learning rate of group 1 to 3.0000e-04.\n"
     ]
    },
    {
     "data": {
      "application/vnd.jupyter.widget-view+json": {
       "model_id": "b5db607161aa4ba68f1c92e059af2b0f",
       "version_major": 2,
       "version_minor": 0
      },
      "text/plain": [
       "Validation: 0it [00:00, ?it/s]"
      ]
     },
     "metadata": {},
     "output_type": "display_data"
    },
    {
     "name": "stderr",
     "output_type": "stream",
     "text": [
      "Epoch 5, global step 48: 'val_srocc' was not in top 1\n"
     ]
    },
    {
     "name": "stdout",
     "output_type": "stream",
     "text": [
      "[Epoch   5] VALID plcc: 0.31, srocc: 0.29, loss: 3049.18 | TRAIN plcc: 0.66, srocc: 0.61, loss: 2485.68\n",
      "Adjusting learning rate of group 0 to 3.0000e-06.\n",
      "Adjusting learning rate of group 1 to 3.0000e-05.\n"
     ]
    },
    {
     "data": {
      "application/vnd.jupyter.widget-view+json": {
       "model_id": "f9c2ebcdf3fb4e3fab1e88a991706e4a",
       "version_major": 2,
       "version_minor": 0
      },
      "text/plain": [
       "Validation: 0it [00:00, ?it/s]"
      ]
     },
     "metadata": {},
     "output_type": "display_data"
    },
    {
     "name": "stderr",
     "output_type": "stream",
     "text": [
      "Epoch 6, global step 56: 'val_srocc' was not in top 1\n",
      "`Trainer.fit` stopped: `max_epochs=7` reached.\n"
     ]
    },
    {
     "name": "stdout",
     "output_type": "stream",
     "text": [
      "[Epoch   6] VALID plcc: 0.28, srocc: 0.26, loss: 3007.66 | TRAIN plcc: 0.76, srocc: 0.74, loss: 2623.53\n"
     ]
    }
   ],
   "source": [
    "loaders = lib.get_loaders(opts, fast=True)\n",
    "validation_batch = next(iter(loaders['valid']))\n",
    "\n",
    "model = lib.Model(opts, validation_batch=validation_batch)\n",
    "\n",
    "if opts['wandb']:\n",
    "    wandb.init(\n",
    "        entity='alexkkir',\n",
    "        project='IQA', \n",
    "        name=opts['name'],\n",
    "        config=opts\n",
    "    )\n",
    "    logger = WandbLogger()\n",
    "else:\n",
    "    logger = None\n",
    "\n",
    "CheckpointLast = ModelCheckpoint(\n",
    "    dirpath=f\"checkpoints/{opts['name']}/\",\n",
    "    filename=f'last_date={lib.today()}_' + '{val_srocc:.3f}_{epoch}',\n",
    "    **opts['model_checkpoint_last'])\n",
    "\n",
    "CheckpointBest = ModelCheckpoint(\n",
    "    dirpath=f\"checkpoints/{opts['name']}/\",\n",
    "    filename=f'best_date={lib.today()}_' + '{val_srocc:.3f}_{epoch}',\n",
    "    **opts['model_checkpoint_best'])\n",
    "\n",
    "MyEarlyStopping = EarlyStopping(**opts['early_stopping'])\n",
    "\n",
    "trainer = pl.Trainer(\n",
    "    logger=logger,\n",
    "    max_epochs=7,\n",
    "    accelerator='gpu',\n",
    "    devices=[opts['device']],\n",
    "    callbacks=[MyEarlyStopping, CheckpointLast, CheckpointBest],\n",
    "    log_every_n_steps=1,\n",
    ")\n",
    "\n",
    "trainer.fit(model, loaders['train'], loaders['valid'])"
   ]
  },
  {
   "cell_type": "code",
   "execution_count": 12,
   "metadata": {},
   "outputs": [
    {
     "data": {
      "text/plain": [
       "'/home/alexkkir/experiments-with-saliency/checkpoints/debug_checkpoint/best_date=2023-01-31_19:12_val_srocc=0.291_epoch=4.ckpt'"
      ]
     },
     "execution_count": 12,
     "metadata": {},
     "output_type": "execute_result"
    }
   ],
   "source": [
    "CheckpointBest.best_model_path"
   ]
  },
  {
   "cell_type": "code",
   "execution_count": 15,
   "metadata": {},
   "outputs": [
    {
     "data": {
      "text/plain": [
       "'/home/alexkkir/experiments-with-saliency/checkpoints/debug_checkpoint/last_date=2023-01-31_19:12_val_srocc=0.262_epoch=6.ckpt'"
      ]
     },
     "execution_count": 15,
     "metadata": {},
     "output_type": "execute_result"
    }
   ],
   "source": [
    "CheckpointLast.best_model_path"
   ]
  },
  {
   "cell_type": "code",
   "execution_count": 17,
   "metadata": {},
   "outputs": [
    {
     "name": "stderr",
     "output_type": "stream",
     "text": [
      "Restoring states from the checkpoint path at /home/alexkkir/experiments-with-saliency/checkpoints/debug_checkpoint/best_date=2023-01-31_19:12_val_srocc=0.291_epoch=4.ckpt\n",
      "LOCAL_RANK: 0 - CUDA_VISIBLE_DEVICES: [0,1,2,3]\n",
      "Loaded model weights from checkpoint at /home/alexkkir/experiments-with-saliency/checkpoints/debug_checkpoint/best_date=2023-01-31_19:12_val_srocc=0.291_epoch=4.ckpt\n"
     ]
    },
    {
     "data": {
      "application/vnd.jupyter.widget-view+json": {
       "model_id": "bc5f767ccc8442fabd061927c99e90d0",
       "version_major": 2,
       "version_minor": 0
      },
      "text/plain": [
       "Testing: 0it [00:00, ?it/s]"
      ]
     },
     "metadata": {},
     "output_type": "display_data"
    },
    {
     "name": "stdout",
     "output_type": "stream",
     "text": [
      "────────────────────────────────────────────────────────────────────────────────────────────────────────────────────────\n",
      "       Test metric             DataLoader 0\n",
      "────────────────────────────────────────────────────────────────────────────────────────────────────────────────────────\n",
      "  test_koniq_best/loss        3099.802734375\n",
      "  test_koniq_best/plcc      0.3071355956043797\n",
      "  test_koniq_best/srocc     0.2912630017114256\n",
      "────────────────────────────────────────────────────────────────────────────────────────────────────────────────────────\n"
     ]
    },
    {
     "name": "stderr",
     "output_type": "stream",
     "text": [
      "Restoring states from the checkpoint path at /home/alexkkir/experiments-with-saliency/checkpoints/debug_checkpoint/last_date=2023-01-31_19:12_val_srocc=0.262_epoch=6.ckpt\n",
      "LOCAL_RANK: 0 - CUDA_VISIBLE_DEVICES: [0,1,2,3]\n",
      "Loaded model weights from checkpoint at /home/alexkkir/experiments-with-saliency/checkpoints/debug_checkpoint/last_date=2023-01-31_19:12_val_srocc=0.262_epoch=6.ckpt\n"
     ]
    },
    {
     "data": {
      "application/vnd.jupyter.widget-view+json": {
       "model_id": "abda002bc7d14a009792d7d0a0ef69b1",
       "version_major": 2,
       "version_minor": 0
      },
      "text/plain": [
       "Testing: 0it [00:00, ?it/s]"
      ]
     },
     "metadata": {},
     "output_type": "display_data"
    },
    {
     "name": "stdout",
     "output_type": "stream",
     "text": [
      "────────────────────────────────────────────────────────────────────────────────────────────────────────────────────────\n",
      "       Test metric             DataLoader 0\n",
      "────────────────────────────────────────────────────────────────────────────────────────────────────────────────────────\n",
      "  test_koniq_last/loss       3007.66455078125\n",
      "  test_koniq_last/plcc      0.27980686079265105\n",
      "  test_koniq_last/srocc     0.26202551579937994\n",
      "────────────────────────────────────────────────────────────────────────────────────────────────────────────────────────\n"
     ]
    },
    {
     "data": {
      "text/plain": [
       "[{'test_koniq_last/loss': 3007.66455078125,\n",
       "  'test_koniq_last/plcc': 0.27980686079265105,\n",
       "  'test_koniq_last/srocc': 0.26202551579937994}]"
      ]
     },
     "execution_count": 17,
     "metadata": {},
     "output_type": "execute_result"
    }
   ],
   "source": [
    "model.test_dashboard = 'test_koniq_best'\n",
    "trainer.test(ckpt_path=CheckpointBest.best_model_path, dataloaders=loaders['test_koniq'])\n",
    "\n",
    "model.test_dashboard = 'test_koniq_last'\n",
    "trainer.test(ckpt_path=CheckpointLast.best_model_path, dataloaders=loaders['test_koniq'])"
   ]
  }
 ],
 "metadata": {
  "kernelspec": {
   "display_name": "base",
   "language": "python",
   "name": "python3"
  },
  "language_info": {
   "codemirror_mode": {
    "name": "ipython",
    "version": 3
   },
   "file_extension": ".py",
   "mimetype": "text/x-python",
   "name": "python",
   "nbconvert_exporter": "python",
   "pygments_lexer": "ipython3",
   "version": "3.8.5"
  },
  "orig_nbformat": 4,
  "vscode": {
   "interpreter": {
    "hash": "869e465c4f25397806eb98effb5307a5d5d93b3ae0a2a52b8d6469552bf70b42"
   }
  }
 },
 "nbformat": 4,
 "nbformat_minor": 2
}
