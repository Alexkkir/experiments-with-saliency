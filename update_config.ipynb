{
 "cells": [
  {
   "cell_type": "code",
   "execution_count": 3,
   "metadata": {},
   "outputs": [],
   "source": [
    "import wandb\n",
    "api = wandb.Api()\n",
    "run = api.run(\"alexkkir/IQA/m6p6vd2u\")\n",
    "run.config[\"saliency_type\"] = \"none\"\n",
    "run.update()"
   ]
  }
 ],
 "metadata": {
  "kernelspec": {
   "display_name": "base",
   "language": "python",
   "name": "python3"
  },
  "language_info": {
   "codemirror_mode": {
    "name": "ipython",
    "version": 3
   },
   "file_extension": ".py",
   "mimetype": "text/x-python",
   "name": "python",
   "nbconvert_exporter": "python",
   "pygments_lexer": "ipython3",
   "version": "3.9.15"
  },
  "orig_nbformat": 4,
  "vscode": {
   "interpreter": {
    "hash": "3ebcd164ebfb8d4521c4f12c1c180c6b6c2cd5fede7a2a607a4a192009b86b70"
   }
  }
 },
 "nbformat": 4,
 "nbformat_minor": 2
}
